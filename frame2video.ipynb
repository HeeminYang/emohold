{
 "cells": [
  {
   "cell_type": "code",
   "execution_count": 1,
   "metadata": {},
   "outputs": [],
   "source": [
    "import pandas as pd\n",
    "import numpy as np"
   ]
  },
  {
   "cell_type": "code",
   "execution_count": 2,
   "metadata": {},
   "outputs": [],
   "source": [
    "import matplotlib.pyplot as plt\n",
    "import itertools\n",
    "def plot_confusion_matrix(cm, target_names=None, cmap=None, normalize=True, labels=True, title='Confusion matrix'):\n",
    "    accuracy = np.trace(cm) / float(np.sum(cm))\n",
    "    misclass = 1 - accuracy\n",
    "\n",
    "    if cmap is None:\n",
    "        cmap = plt.get_cmap('Blues')\n",
    "\n",
    "    if normalize:\n",
    "        cm = cm.astype('float') / cm.sum(axis=1)[:, np.newaxis]\n",
    "        \n",
    "    plt.figure(figsize=(4, 4))\n",
    "    plt.imshow(cm, interpolation='nearest', cmap=cmap)\n",
    "    plt.title(title)\n",
    "\n",
    "    thresh = cm.max() / 1.5 if normalize else cm.max() / 2\n",
    "    \n",
    "    if target_names is not None:\n",
    "        tick_marks = np.arange(len(target_names))\n",
    "        plt.xticks(tick_marks, target_names)\n",
    "        plt.yticks(tick_marks, target_names)\n",
    "    \n",
    "    if labels:\n",
    "        for i, j in itertools.product(range(cm.shape[0]), range(cm.shape[1])):\n",
    "            if normalize:\n",
    "                plt.text(j, i, \"{:0.4f}\".format(cm[i, j]),\n",
    "                         horizontalalignment=\"center\",\n",
    "                         color=\"white\" if cm[i, j] > thresh else \"black\")\n",
    "            else:\n",
    "                plt.text(j, i, \"{:,}\".format(cm[i, j]),\n",
    "                         horizontalalignment=\"center\",\n",
    "                         color=\"white\" if cm[i, j] > thresh else \"black\")\n",
    "\n",
    "    plt.tight_layout()\n",
    "    plt.ylabel('True label')\n",
    "    plt.xlabel('Predicted label\\naccuracy={:0.4f}; misclass={:0.4f}'.format(accuracy, misclass))\n",
    "    plt.show()"
   ]
  },
  {
   "cell_type": "code",
   "execution_count": 3,
   "metadata": {},
   "outputs": [
    {
     "data": {
      "text/html": [
       "<div>\n",
       "<style scoped>\n",
       "    .dataframe tbody tr th:only-of-type {\n",
       "        vertical-align: middle;\n",
       "    }\n",
       "\n",
       "    .dataframe tbody tr th {\n",
       "        vertical-align: top;\n",
       "    }\n",
       "\n",
       "    .dataframe thead th {\n",
       "        text-align: right;\n",
       "    }\n",
       "</style>\n",
       "<table border=\"1\" class=\"dataframe\">\n",
       "  <thead>\n",
       "    <tr style=\"text-align: right;\">\n",
       "      <th></th>\n",
       "      <th>file</th>\n",
       "      <th>label_JH</th>\n",
       "      <th>label_HM</th>\n",
       "      <th>label_YG</th>\n",
       "    </tr>\n",
       "  </thead>\n",
       "  <tbody>\n",
       "    <tr>\n",
       "      <th>0</th>\n",
       "      <td>HJY_0</td>\n",
       "      <td>angry</td>\n",
       "      <td>Negative</td>\n",
       "      <td>Angry</td>\n",
       "    </tr>\n",
       "    <tr>\n",
       "      <th>1</th>\n",
       "      <td>HJY_1</td>\n",
       "      <td>angry</td>\n",
       "      <td>Negative</td>\n",
       "      <td>Angry</td>\n",
       "    </tr>\n",
       "    <tr>\n",
       "      <th>2</th>\n",
       "      <td>HJY_2</td>\n",
       "      <td>angry</td>\n",
       "      <td>Negative</td>\n",
       "      <td>Angry</td>\n",
       "    </tr>\n",
       "    <tr>\n",
       "      <th>3</th>\n",
       "      <td>HJY_60</td>\n",
       "      <td>angry</td>\n",
       "      <td>NaN</td>\n",
       "      <td>Angry</td>\n",
       "    </tr>\n",
       "    <tr>\n",
       "      <th>4</th>\n",
       "      <td>HJY_61</td>\n",
       "      <td>angry</td>\n",
       "      <td>NaN</td>\n",
       "      <td>Angry</td>\n",
       "    </tr>\n",
       "  </tbody>\n",
       "</table>\n",
       "</div>"
      ],
      "text/plain": [
       "     file label_JH  label_HM label_YG\n",
       "0   HJY_0    angry  Negative    Angry\n",
       "1   HJY_1    angry  Negative    Angry\n",
       "2   HJY_2    angry  Negative    Angry\n",
       "3  HJY_60    angry       NaN    Angry\n",
       "4  HJY_61    angry       NaN    Angry"
      ]
     },
     "execution_count": 3,
     "metadata": {},
     "output_type": "execute_result"
    }
   ],
   "source": [
    "df = pd.read_excel('/home/heemin/mv/dir/label.xlsx', engine='openpyxl')\n",
    "df.head()"
   ]
  },
  {
   "cell_type": "code",
   "execution_count": 4,
   "metadata": {},
   "outputs": [],
   "source": [
    "df['label1'] = df['label_JH']\n",
    "df['label2'] = df['label_HM']\n",
    "df['label3'] = df['label_YG']"
   ]
  },
  {
   "cell_type": "code",
   "execution_count": 5,
   "metadata": {},
   "outputs": [
    {
     "data": {
      "text/plain": [
       "array(['angry', 'neutral', 'happy', nan, 'surprise'], dtype=object)"
      ]
     },
     "execution_count": 5,
     "metadata": {},
     "output_type": "execute_result"
    }
   ],
   "source": [
    "df['label_JH'].unique()"
   ]
  },
  {
   "cell_type": "code",
   "execution_count": 6,
   "metadata": {},
   "outputs": [
    {
     "data": {
      "text/plain": [
       "array(['Angry', 'Happy', 'Neutral', 'Surprise'], dtype=object)"
      ]
     },
     "execution_count": 6,
     "metadata": {},
     "output_type": "execute_result"
    }
   ],
   "source": [
    "df['label_YG'].unique()"
   ]
  },
  {
   "cell_type": "code",
   "execution_count": 7,
   "metadata": {},
   "outputs": [
    {
     "data": {
      "text/plain": [
       "array(['Negative', nan, 'Positive', 'Neutral'], dtype=object)"
      ]
     },
     "execution_count": 7,
     "metadata": {},
     "output_type": "execute_result"
    }
   ],
   "source": [
    "df['label_HM'].unique()"
   ]
  },
  {
   "cell_type": "code",
   "execution_count": 8,
   "metadata": {},
   "outputs": [],
   "source": [
    "df.loc[df['label_JH']=='angry', 'label1'] = 'Negative'\n",
    "df.loc[df['label_JH']=='surprise', 'label1'] = 'Positive'\n",
    "df.loc[df['label_JH']=='happy', 'label1'] = 'Positive'\n",
    "df.loc[df['label_JH']=='neutral', 'label1'] = 'Neutral'\n",
    "\n",
    "df.loc[df['label_YG']=='Angry', 'label3'] = 'Negative'\n",
    "df.loc[df['label_YG']=='Surprise', 'label3'] = 'Positive'\n",
    "df.loc[df['label_YG']=='Happy', 'label3'] = 'Positive'"
   ]
  },
  {
   "cell_type": "code",
   "execution_count": 9,
   "metadata": {},
   "outputs": [
    {
     "data": {
      "text/plain": [
       "file        0\n",
       "label1      3\n",
       "label2    153\n",
       "label3      0\n",
       "dtype: int64"
      ]
     },
     "execution_count": 9,
     "metadata": {},
     "output_type": "execute_result"
    }
   ],
   "source": [
    "df2 = df[['file','label1','label2', 'label3']]\n",
    "df2.isna().sum()"
   ]
  },
  {
   "cell_type": "code",
   "execution_count": 10,
   "metadata": {},
   "outputs": [
    {
     "name": "stderr",
     "output_type": "stream",
     "text": [
      "/home/heemin/.pyenv/versions/3.6.8/envs/meta/lib/python3.6/site-packages/ipykernel_launcher.py:2: SettingWithCopyWarning: \n",
      "A value is trying to be set on a copy of a slice from a DataFrame.\n",
      "Try using .loc[row_indexer,col_indexer] = value instead\n",
      "\n",
      "See the caveats in the documentation: https://pandas.pydata.org/pandas-docs/stable/user_guide/indexing.html#returning-a-view-versus-a-copy\n",
      "  \n"
     ]
    }
   ],
   "source": [
    "df2_dropna=df2.dropna()\n",
    "df2_dropna['true'] = df2_dropna.mode(axis=1)[0]"
   ]
  },
  {
   "cell_type": "code",
   "execution_count": 11,
   "metadata": {},
   "outputs": [
    {
     "data": {
      "text/plain": [
       "476"
      ]
     },
     "execution_count": 11,
     "metadata": {},
     "output_type": "execute_result"
    }
   ],
   "source": [
    "len(df2_dropna)"
   ]
  },
  {
   "cell_type": "code",
   "execution_count": 12,
   "metadata": {},
   "outputs": [],
   "source": [
    "# JWG drop\n",
    "df2_dropna = df2_dropna[~df2_dropna['file'].str.contains('JWG', na = False)]\n",
    "# df2_dropna = df2_dropna[~df2_dropna['file'].str.contains('LYG_2', na = False)]"
   ]
  },
  {
   "cell_type": "code",
   "execution_count": 13,
   "metadata": {},
   "outputs": [
    {
     "data": {
      "text/html": [
       "<div>\n",
       "<style scoped>\n",
       "    .dataframe tbody tr th:only-of-type {\n",
       "        vertical-align: middle;\n",
       "    }\n",
       "\n",
       "    .dataframe tbody tr th {\n",
       "        vertical-align: top;\n",
       "    }\n",
       "\n",
       "    .dataframe thead th {\n",
       "        text-align: right;\n",
       "    }\n",
       "</style>\n",
       "<table border=\"1\" class=\"dataframe\">\n",
       "  <thead>\n",
       "    <tr style=\"text-align: right;\">\n",
       "      <th></th>\n",
       "      <th>file</th>\n",
       "      <th>label1</th>\n",
       "      <th>label2</th>\n",
       "      <th>label3</th>\n",
       "    </tr>\n",
       "    <tr>\n",
       "      <th>true</th>\n",
       "      <th></th>\n",
       "      <th></th>\n",
       "      <th></th>\n",
       "      <th></th>\n",
       "    </tr>\n",
       "  </thead>\n",
       "  <tbody>\n",
       "    <tr>\n",
       "      <th>Negative</th>\n",
       "      <td>35</td>\n",
       "      <td>35</td>\n",
       "      <td>35</td>\n",
       "      <td>35</td>\n",
       "    </tr>\n",
       "    <tr>\n",
       "      <th>Neutral</th>\n",
       "      <td>220</td>\n",
       "      <td>220</td>\n",
       "      <td>220</td>\n",
       "      <td>220</td>\n",
       "    </tr>\n",
       "    <tr>\n",
       "      <th>Positive</th>\n",
       "      <td>143</td>\n",
       "      <td>143</td>\n",
       "      <td>143</td>\n",
       "      <td>143</td>\n",
       "    </tr>\n",
       "  </tbody>\n",
       "</table>\n",
       "</div>"
      ],
      "text/plain": [
       "          file  label1  label2  label3\n",
       "true                                  \n",
       "Negative    35      35      35      35\n",
       "Neutral    220     220     220     220\n",
       "Positive   143     143     143     143"
      ]
     },
     "execution_count": 13,
     "metadata": {},
     "output_type": "execute_result"
    }
   ],
   "source": [
    "df2_dropna.groupby('true').count()"
   ]
  },
  {
   "cell_type": "code",
   "execution_count": 109,
   "metadata": {},
   "outputs": [],
   "source": [
    "df2_dropna.to_excel('/home/heemin/mv/dir/label_true.xlsx')"
   ]
  },
  {
   "cell_type": "code",
   "execution_count": 110,
   "metadata": {},
   "outputs": [
    {
     "data": {
      "text/plain": [
       "398"
      ]
     },
     "execution_count": 110,
     "metadata": {},
     "output_type": "execute_result"
    }
   ],
   "source": [
    "len(df2_dropna)"
   ]
  },
  {
   "attachments": {},
   "cell_type": "markdown",
   "metadata": {},
   "source": [
    "## data crop"
   ]
  },
  {
   "cell_type": "code",
   "execution_count": 111,
   "metadata": {},
   "outputs": [],
   "source": [
    "import os\n",
    "import natsort\n",
    "\n",
    "from collections import Counter"
   ]
  },
  {
   "cell_type": "code",
   "execution_count": 112,
   "metadata": {},
   "outputs": [],
   "source": [
    "fl = os.listdir('/home/heemin/mv/dir/csv')"
   ]
  },
  {
   "cell_type": "code",
   "execution_count": 113,
   "metadata": {},
   "outputs": [],
   "source": [
    "file_list = natsort.natsorted(fl)"
   ]
  },
  {
   "cell_type": "code",
   "execution_count": 114,
   "metadata": {},
   "outputs": [],
   "source": [
    "drop_file =[]\n",
    "for file in file_list:\n",
    "    df1 = pd.read_csv('/home/heemin/mv/dir/csv/'+file)[['total_count', 'emotion']]\n",
    "    if len(df1) < 25:\n",
    "        drop_file.append(file)"
   ]
  },
  {
   "cell_type": "code",
   "execution_count": 115,
   "metadata": {},
   "outputs": [],
   "source": [
    "true_label = pd.read_excel('/home/heemin/mv/dir/label_true.xlsx', engine='openpyxl')\n",
    "drop_filename = []\n",
    "for file in drop_file:\n",
    "    drop_filename.append(file.split('.')[0])\n",
    "drop_df = pd.DataFrame(drop_filename, columns=['file'])\n",
    "drop_df['bad'] = 1\n",
    "label1 = pd.merge(true_label, drop_df, how='left', on='file')\n",
    "label2 = label1[label1['bad'].isnull()].iloc[:,1:-1]"
   ]
  },
  {
   "cell_type": "code",
   "execution_count": 116,
   "metadata": {},
   "outputs": [
    {
     "data": {
      "text/html": [
       "<div>\n",
       "<style scoped>\n",
       "    .dataframe tbody tr th:only-of-type {\n",
       "        vertical-align: middle;\n",
       "    }\n",
       "\n",
       "    .dataframe tbody tr th {\n",
       "        vertical-align: top;\n",
       "    }\n",
       "\n",
       "    .dataframe thead th {\n",
       "        text-align: right;\n",
       "    }\n",
       "</style>\n",
       "<table border=\"1\" class=\"dataframe\">\n",
       "  <thead>\n",
       "    <tr style=\"text-align: right;\">\n",
       "      <th></th>\n",
       "      <th>file</th>\n",
       "      <th>label1</th>\n",
       "      <th>label2</th>\n",
       "      <th>label3</th>\n",
       "      <th>true</th>\n",
       "    </tr>\n",
       "  </thead>\n",
       "  <tbody>\n",
       "    <tr>\n",
       "      <th>0</th>\n",
       "      <td>HJY_0</td>\n",
       "      <td>Negative</td>\n",
       "      <td>Negative</td>\n",
       "      <td>Negative</td>\n",
       "      <td>Negative</td>\n",
       "    </tr>\n",
       "    <tr>\n",
       "      <th>1</th>\n",
       "      <td>HJY_1</td>\n",
       "      <td>Negative</td>\n",
       "      <td>Negative</td>\n",
       "      <td>Negative</td>\n",
       "      <td>Negative</td>\n",
       "    </tr>\n",
       "    <tr>\n",
       "      <th>2</th>\n",
       "      <td>HJY_2</td>\n",
       "      <td>Negative</td>\n",
       "      <td>Negative</td>\n",
       "      <td>Negative</td>\n",
       "      <td>Negative</td>\n",
       "    </tr>\n",
       "    <tr>\n",
       "      <th>3</th>\n",
       "      <td>PSG_3</td>\n",
       "      <td>Negative</td>\n",
       "      <td>Negative</td>\n",
       "      <td>Negative</td>\n",
       "      <td>Negative</td>\n",
       "    </tr>\n",
       "    <tr>\n",
       "      <th>4</th>\n",
       "      <td>PSG_33</td>\n",
       "      <td>Negative</td>\n",
       "      <td>Negative</td>\n",
       "      <td>Negative</td>\n",
       "      <td>Negative</td>\n",
       "    </tr>\n",
       "    <tr>\n",
       "      <th>...</th>\n",
       "      <td>...</td>\n",
       "      <td>...</td>\n",
       "      <td>...</td>\n",
       "      <td>...</td>\n",
       "      <td>...</td>\n",
       "    </tr>\n",
       "    <tr>\n",
       "      <th>388</th>\n",
       "      <td>LTW_78</td>\n",
       "      <td>Neutral</td>\n",
       "      <td>Neutral</td>\n",
       "      <td>Neutral</td>\n",
       "      <td>Neutral</td>\n",
       "    </tr>\n",
       "    <tr>\n",
       "      <th>391</th>\n",
       "      <td>LTW_82</td>\n",
       "      <td>Neutral</td>\n",
       "      <td>Neutral</td>\n",
       "      <td>Neutral</td>\n",
       "      <td>Neutral</td>\n",
       "    </tr>\n",
       "    <tr>\n",
       "      <th>393</th>\n",
       "      <td>LTW_84</td>\n",
       "      <td>Neutral</td>\n",
       "      <td>Neutral</td>\n",
       "      <td>Neutral</td>\n",
       "      <td>Neutral</td>\n",
       "    </tr>\n",
       "    <tr>\n",
       "      <th>395</th>\n",
       "      <td>HJY_73</td>\n",
       "      <td>Neutral</td>\n",
       "      <td>Neutral</td>\n",
       "      <td>Positive</td>\n",
       "      <td>Neutral</td>\n",
       "    </tr>\n",
       "    <tr>\n",
       "      <th>396</th>\n",
       "      <td>KSY_29</td>\n",
       "      <td>Positive</td>\n",
       "      <td>Negative</td>\n",
       "      <td>Positive</td>\n",
       "      <td>Positive</td>\n",
       "    </tr>\n",
       "  </tbody>\n",
       "</table>\n",
       "<p>268 rows × 5 columns</p>\n",
       "</div>"
      ],
      "text/plain": [
       "       file    label1    label2    label3      true\n",
       "0     HJY_0  Negative  Negative  Negative  Negative\n",
       "1     HJY_1  Negative  Negative  Negative  Negative\n",
       "2     HJY_2  Negative  Negative  Negative  Negative\n",
       "3     PSG_3  Negative  Negative  Negative  Negative\n",
       "4    PSG_33  Negative  Negative  Negative  Negative\n",
       "..      ...       ...       ...       ...       ...\n",
       "388  LTW_78   Neutral   Neutral   Neutral   Neutral\n",
       "391  LTW_82   Neutral   Neutral   Neutral   Neutral\n",
       "393  LTW_84   Neutral   Neutral   Neutral   Neutral\n",
       "395  HJY_73   Neutral   Neutral  Positive   Neutral\n",
       "396  KSY_29  Positive  Negative  Positive  Positive\n",
       "\n",
       "[268 rows x 5 columns]"
      ]
     },
     "execution_count": 116,
     "metadata": {},
     "output_type": "execute_result"
    }
   ],
   "source": [
    "label2"
   ]
  },
  {
   "cell_type": "code",
   "execution_count": 117,
   "metadata": {},
   "outputs": [],
   "source": [
    "label2['Neutral'] = 0\n",
    "label2.loc[label2['true'] == 'Negative', 'Neutral'] = 1\n",
    "label2.loc[label2['true'] == 'Positive', 'Neutral'] = 2\n",
    "label2 = label2.reset_index()"
   ]
  },
  {
   "cell_type": "code",
   "execution_count": 118,
   "metadata": {},
   "outputs": [],
   "source": [
    "label2.to_excel('/home/heemin/mv/dir/ll.xlsx')"
   ]
  },
  {
   "attachments": {},
   "cell_type": "markdown",
   "metadata": {},
   "source": [
    "frame to video crop이기 때문에 25frame 마다 crop 할 필요없이 1frame마다 crop하면 됨"
   ]
  },
  {
   "cell_type": "code",
   "execution_count": 119,
   "metadata": {},
   "outputs": [],
   "source": [
    "for idx in range(len(label2)):\n",
    "    file = label2['file'][idx]\n",
    "    df1 = pd.read_csv('/home/heemin/mv/dir/csv/'+file+'.mp4.csv')[['total_count', 'emotion']]\n",
    "    end_frame = int(df1['total_count'][-1:])\n",
    "    df2 = pd.merge(pd.DataFrame([i for i in range(1, end_frame+1)], columns=['total_count']), df1, how='outer').fillna('Neutral')\n",
    "    if label2['Neutral'][idx] == 1 or label2['Neutral'][idx] == 2:\n",
    "        crop_frame_start = 0\n",
    "\n",
    "        for i in range(end_frame):\n",
    "            if df2['emotion'][i] == 'Neutral' or df2['emotion'][i] == 'none':\n",
    "                crop_frame_start = i+1\n",
    "            else:\n",
    "                break\n",
    "        crop_frame_end = end_frame\n",
    "\n",
    "        reverse_df2 = pd.merge(pd.DataFrame([i for i in range(end_frame, -1, -1)], columns=['total_count']), df1, how='outer').fillna('Neutral')\n",
    "        for i in range(end_frame):\n",
    "            if reverse_df2['emotion'][i] == 'Neutral'or reverse_df2['emotion'][i] == 'none':\n",
    "                crop_frame_end = reverse_df2['total_count'][i] - 1\n",
    "            else:\n",
    "                break\n",
    "        if crop_frame_end == 0:\n",
    "            crop_frame_start = 0\n",
    "            crop_frame_end = end_frame\n",
    "\n",
    "        df3 = df2[crop_frame_start:crop_frame_end]\n",
    "    else:\n",
    "        df3 = df2\n",
    "    df3.to_csv('/home/heemin/mv/dir/csv_crop_video/'+file+'.mp4.csv')"
   ]
  },
  {
   "cell_type": "code",
   "execution_count": 120,
   "metadata": {},
   "outputs": [],
   "source": [
    "emotion_dict = {'Angry':'Negative', 'Disgust':'Negative', 'Fear':'Negative', 'Happy':'Positive', \n",
    "    'Sad':'Negative', 'Suprise':'Positive', 'Neutral':'Neutral'}"
   ]
  },
  {
   "cell_type": "code",
   "execution_count": 121,
   "metadata": {},
   "outputs": [
    {
     "name": "stdout",
     "output_type": "stream",
     "text": [
      "threshold: 0.0  Neutral data: 18.71%  Negative data: 88.46%  Positive data: 88.00%  Total data: 51.70%\n"
     ]
    },
    {
     "data": {
      "image/png": "[encoded data removed]",
      "text/plain": [
       "<Figure size 288x288 with 1 Axes>"
      ]
     },
     "metadata": {
      "needs_background": "light"
     },
     "output_type": "display_data"
    },
    {
     "name": "stdout",
     "output_type": "stream",
     "text": [
      "threshold: 0.05  Neutral data: 35.97%  Negative data: 88.46%  Positive data: 88.00%  Total data: 60.75%\n"
     ]
    },
    {
     "data": {
      "image/png": "[encoded data removed]",
      "text/plain": [
       "<Figure size 288x288 with 1 Axes>"
      ]
     },
     "metadata": {
      "needs_background": "light"
     },
     "output_type": "display_data"
    },
    {
     "name": "stdout",
     "output_type": "stream",
     "text": [
      "threshold: 0.1  Neutral data: 44.60%  Negative data: 80.77%  Positive data: 88.00%  Total data: 64.53%\n"
     ]
    },
    {
     "data": {
      "image/png": "[encoded data removed]",
      "text/plain": [
       "<Figure size 288x288 with 1 Axes>"
      ]
     },
     "metadata": {
      "needs_background": "light"
     },
     "output_type": "display_data"
    },
    {
     "name": "stdout",
     "output_type": "stream",
     "text": [
      "threshold: 0.15  Neutral data: 59.71%  Negative data: 69.23%  Positive data: 88.00%  Total data: 71.32%\n"
     ]
    },
    {
     "data": {
      "image/png": "[encoded data removed]",
      "text/plain": [
       "<Figure size 288x288 with 1 Axes>"
      ]
     },
     "metadata": {
      "needs_background": "light"
     },
     "output_type": "display_data"
    },
    {
     "name": "stdout",
     "output_type": "stream",
     "text": [
      "threshold: 0.2  Neutral data: 66.91%  Negative data: 50.00%  Positive data: 86.00%  Total data: 72.45%\n"
     ]
    },
    {
     "data": {
      "image/png": "[encoded data removed]",
      "text/plain": [
       "<Figure size 288x288 with 1 Axes>"
      ]
     },
     "metadata": {
      "needs_background": "light"
     },
     "output_type": "display_data"
    },
    {
     "name": "stdout",
     "output_type": "stream",
     "text": [
      "threshold: 0.25  Neutral data: 76.26%  Negative data: 30.77%  Positive data: 79.00%  Total data: 72.83%\n"
     ]
    },
    {
     "data": {
      "image/png": "[encoded data removed]",
      "text/plain": [
       "<Figure size 288x288 with 1 Axes>"
      ]
     },
     "metadata": {
      "needs_background": "light"
     },
     "output_type": "display_data"
    },
    {
     "name": "stdout",
     "output_type": "stream",
     "text": [
      "threshold: 0.3  Neutral data: 81.29%  Negative data: 23.08%  Positive data: 74.00%  Total data: 72.83%\n"
     ]
    },
    {
     "data": {
      "image/png": "[encoded data removed]",
      "text/plain": [
       "<Figure size 288x288 with 1 Axes>"
      ]
     },
     "metadata": {
      "needs_background": "light"
     },
     "output_type": "display_data"
    },
    {
     "name": "stdout",
     "output_type": "stream",
     "text": [
      "threshold: 0.35  Neutral data: 84.89%  Negative data: 7.69%  Positive data: 69.00%  Total data: 71.32%\n"
     ]
    },
    {
     "data": {
      "image/png": "[encoded data removed]",
      "text/plain": [
       "<Figure size 288x288 with 1 Axes>"
      ]
     },
     "metadata": {
      "needs_background": "light"
     },
     "output_type": "display_data"
    },
    {
     "name": "stdout",
     "output_type": "stream",
     "text": [
      "threshold: 0.4  Neutral data: 87.77%  Negative data: 3.85%  Positive data: 65.00%  Total data: 70.94%\n"
     ]
    },
    {
     "data": {
      "image/png": "[encoded data removed]",
      "text/plain": [
       "<Figure size 288x288 with 1 Axes>"
      ]
     },
     "metadata": {
      "needs_background": "light"
     },
     "output_type": "display_data"
    },
    {
     "name": "stdout",
     "output_type": "stream",
     "text": [
      "threshold: 0.45  Neutral data: 94.96%  Negative data: 3.85%  Positive data: 62.00%  Total data: 73.58%\n"
     ]
    },
    {
     "data": {
      "image/png": "[encoded data removed]",
      "text/plain": [
       "<Figure size 288x288 with 1 Axes>"
      ]
     },
     "metadata": {
      "needs_background": "light"
     },
     "output_type": "display_data"
    },
    {
     "name": "stdout",
     "output_type": "stream",
     "text": [
      "threshold: 0.5  Neutral data: 96.40%  Negative data: 0.00%  Positive data: 59.00%  Total data: 72.83%\n"
     ]
    },
    {
     "data": {
      "image/png": "[encoded data removed]",
      "text/plain": [
       "<Figure size 288x288 with 1 Axes>"
      ]
     },
     "metadata": {
      "needs_background": "light"
     },
     "output_type": "display_data"
    },
    {
     "name": "stdout",
     "output_type": "stream",
     "text": [
      "threshold: 0.55  Neutral data: 96.40%  Negative data: 0.00%  Positive data: 59.00%  Total data: 72.83%\n"
     ]
    },
    {
     "data": {
      "image/png": "[encoded data removed]",
      "text/plain": [
       "<Figure size 288x288 with 1 Axes>"
      ]
     },
     "metadata": {
      "needs_background": "light"
     },
     "output_type": "display_data"
    },
    {
     "name": "stdout",
     "output_type": "stream",
     "text": [
      "threshold: 0.6  Neutral data: 96.40%  Negative data: 0.00%  Positive data: 59.00%  Total data: 72.83%\n"
     ]
    },
    {
     "data": {
      "image/png": "[encoded data removed]",
      "text/plain": [
       "<Figure size 288x288 with 1 Axes>"
      ]
     },
     "metadata": {
      "needs_background": "light"
     },
     "output_type": "display_data"
    },
    {
     "name": "stdout",
     "output_type": "stream",
     "text": [
      "threshold: 0.65  Neutral data: 96.40%  Negative data: 0.00%  Positive data: 59.00%  Total data: 72.83%\n"
     ]
    },
    {
     "data": {
      "image/png": "[encoded data removed]",
      "text/plain": [
       "<Figure size 288x288 with 1 Axes>"
      ]
     },
     "metadata": {
      "needs_background": "light"
     },
     "output_type": "display_data"
    },
    {
     "name": "stdout",
     "output_type": "stream",
     "text": [
      "threshold: 0.7  Neutral data: 96.40%  Negative data: 0.00%  Positive data: 59.00%  Total data: 72.83%\n"
     ]
    },
    {
     "data": {
      "image/png": "[encoded data removed]",
      "text/plain": [
       "<Figure size 288x288 with 1 Axes>"
      ]
     },
     "metadata": {
      "needs_background": "light"
     },
     "output_type": "display_data"
    },
    {
     "name": "stdout",
     "output_type": "stream",
     "text": [
      "threshold: 0.75  Neutral data: 96.40%  Negative data: 0.00%  Positive data: 59.00%  Total data: 72.83%\n"
     ]
    },
    {
     "data": {
      "image/png": "[encoded data removed]",
      "text/plain": [
       "<Figure size 288x288 with 1 Axes>"
      ]
     },
     "metadata": {
      "needs_background": "light"
     },
     "output_type": "display_data"
    },
    {
     "name": "stdout",
     "output_type": "stream",
     "text": [
      "threshold: 0.8  Neutral data: 96.40%  Negative data: 0.00%  Positive data: 59.00%  Total data: 72.83%\n"
     ]
    },
    {
     "data": {
      "image/png": "[encoded data removed]",
      "text/plain": [
       "<Figure size 288x288 with 1 Axes>"
      ]
     },
     "metadata": {
      "needs_background": "light"
     },
     "output_type": "display_data"
    },
    {
     "name": "stdout",
     "output_type": "stream",
     "text": [
      "threshold: 0.85  Neutral data: 96.40%  Negative data: 0.00%  Positive data: 59.00%  Total data: 72.83%\n"
     ]
    },
    {
     "data": {
      "image/png": "[encoded data removed]",
      "text/plain": [
       "<Figure size 288x288 with 1 Axes>"
      ]
     },
     "metadata": {
      "needs_background": "light"
     },
     "output_type": "display_data"
    },
    {
     "name": "stdout",
     "output_type": "stream",
     "text": [
      "threshold: 0.9  Neutral data: 96.40%  Negative data: 0.00%  Positive data: 59.00%  Total data: 72.83%\n"
     ]
    },
    {
     "data": {
      "image/png": "[encoded data removed]",
      "text/plain": [
       "<Figure size 288x288 with 1 Axes>"
      ]
     },
     "metadata": {
      "needs_background": "light"
     },
     "output_type": "display_data"
    },
    {
     "name": "stdout",
     "output_type": "stream",
     "text": [
      "threshold: 0.95  Neutral data: 96.40%  Negative data: 0.00%  Positive data: 59.00%  Total data: 72.83%\n"
     ]
    },
    {
     "data": {
      "image/png": "[encoded data removed]",
      "text/plain": [
       "<Figure size 288x288 with 1 Axes>"
      ]
     },
     "metadata": {
      "needs_background": "light"
     },
     "output_type": "display_data"
    }
   ],
   "source": [
    "import copy\n",
    "result = []\n",
    "for thre in range(0, 100, 5):\n",
    "    threshold = thre / 100\n",
    "    n_total = 0\n",
    "    n_correct = 0\n",
    "    h_total = 0\n",
    "    h_correct = 0\n",
    "    e_total = 0\n",
    "    e_correct = 0\n",
    "    # threshold = 0.275\n",
    "    bad_data = []\n",
    "    cf_matrix = np.array([[0,0,0],\n",
    "                        [0,0,0],\n",
    "                        [0,0,0]])\n",
    "    #           Neutral , Negative , Positive\n",
    "    # Neutral   [0][0]     [0][1]     [0][2]\n",
    "    # Negative  [1][0]     [1][1]     [1][2]\n",
    "    # Positive  [2][0]     [2][1]     [2][2]\n",
    "    for i in range(len(label2)):\n",
    "        file = label2['file'][i]\n",
    "        df = pd.read_csv('/home/heemin/mv/dir/csv_crop_video/'+file+'.mp4.csv', index_col=0)\n",
    "        label = label2.loc[label2['file'] == file]['true'][i]\n",
    "\n",
    "        if label2['Neutral'][i] == 0:\n",
    "            l1 = df['total_count'].tolist()\n",
    "            l2 = df['emotion'].tolist()\n",
    "            df1 = pd.DataFrame([l1,l2]).T\n",
    "            df1['index'] = df1[0]\n",
    "            a = list(range(l1[-1]+1))\n",
    "            index_df = pd.DataFrame(a, columns=['index'])\n",
    "            df2 = pd.merge(index_df, df1, how=\"outer\")\n",
    "            df2 = df2.fillna('Neutral')\n",
    "            emolist = df2[1].to_list()\n",
    "            emocount = Counter(emolist)\n",
    "            top3 = emocount.most_common(n=3)\n",
    "            l3 = []\n",
    "\n",
    "\n",
    "            total_len = len(df2)\n",
    "            p10_len = int(total_len * threshold)\n",
    "            # print(file, total_len, threshold, p10_len, top3)\n",
    "\n",
    "            if top3[0][0] == 'none':\n",
    "                if len(top3) == 1:\n",
    "                    l3.append('Neutral')\n",
    "                elif top3[1][0] == 'Neutral':\n",
    "                    if len(top3) == 3:\n",
    "                        if top3[2][1] >= p10_len:\n",
    "                            l3.append(top3[2][0])\n",
    "                        else:\n",
    "                            l3.append(top3[1][0])\n",
    "                    else:\n",
    "                        l3.append(top3[1][0])\n",
    "            elif top3[0][0] == 'Neutral':\n",
    "                if len(top3) == 1:\n",
    "                    l3.append('Neutral')\n",
    "                elif top3[1][0] == 'none':\n",
    "                    if len(top3) == 2: \n",
    "                        l3.append('Neutral')\n",
    "                    else:\n",
    "                        if top3[2][1] >= p10_len:\n",
    "                            l3.append(top3[2][0])\n",
    "                        else:\n",
    "                            l3.append(top3[0][0])\n",
    "                else:\n",
    "                    if top3[1][1] >= p10_len:\n",
    "                        l3.append(top3[1][0])\n",
    "                    else:\n",
    "                        l3.append(top3[0][0])\n",
    "            else:\n",
    "                l3.append(top3[0][0])\n",
    "            for emotion in l3:\n",
    "                n_total+=1\n",
    "                if emotion_dict[emotion] == label:\n",
    "                    cf_matrix[0][0] += 1\n",
    "                    n_correct += 1\n",
    "                else:\n",
    "                    if emotion_dict[emotion] == 'Negative':\n",
    "                        cf_matrix[0][1] += 1\n",
    "                    elif emotion_dict[emotion] == 'Positive':\n",
    "                        cf_matrix[0][2] += 1\n",
    "                    bad_data.append([file, emotion, label])\n",
    "                # print(file, emotion, label, emotion_dict[emotion], label)\n",
    "        \n",
    "        elif label2['Neutral'][i] == 1:\n",
    "            l1 = df['total_count'].tolist()\n",
    "            l2 = df['emotion'].tolist()\n",
    "            df1 = pd.DataFrame([l1,l2]).T\n",
    "            df1['index'] = df1[0]\n",
    "            a = list(range(l1[-1]+1))\n",
    "            index_df = pd.DataFrame(a, columns=['index'])\n",
    "            df2 = pd.merge(index_df, df1, how=\"outer\")\n",
    "            df2 = df2.fillna('Neutral')\n",
    "            emolist = df2[1].to_list()\n",
    "            emocount = Counter(emolist)\n",
    "            top3 = emocount.most_common(n=3)\n",
    "            l3 = []\n",
    "\n",
    "\n",
    "            total_len = len(df2)\n",
    "            p10_len = int(total_len * threshold)\n",
    "\n",
    "            if top3[0][0] == 'none':\n",
    "                if len(top3) == 1:\n",
    "                    l3.append('Neutral')\n",
    "                elif top3[1][0] == 'Neutral':\n",
    "                    if len(top3) == 3:\n",
    "                        if top3[2][1] >= p10_len:\n",
    "                            l3.append(top3[2][0])\n",
    "                        else:\n",
    "                            l3.append(top3[1][0])\n",
    "                    else:\n",
    "                        l3.append(top3[1][0])\n",
    "            elif top3[0][0] == 'Neutral':\n",
    "                if len(top3) == 1:\n",
    "                    l3.append('Neutral')\n",
    "                elif top3[1][0] == 'none':\n",
    "                    if len(top3) == 2: \n",
    "                        l3.append('Neutral')\n",
    "                    else:\n",
    "                        if top3[2][1] >= p10_len:\n",
    "                            l3.append(top3[2][0])\n",
    "                        else:\n",
    "                            l3.append(top3[0][0])\n",
    "                else:\n",
    "                    if top3[1][1] >= p10_len:\n",
    "                        l3.append(top3[1][0])\n",
    "                    else:\n",
    "                        l3.append(top3[0][0])\n",
    "            else:\n",
    "                l3.append(top3[0][0])\n",
    "            for emotion in l3:\n",
    "                e_total+=1\n",
    "                if emotion_dict[emotion] == label:\n",
    "                    cf_matrix[1][1] += 1\n",
    "                    e_correct += 1\n",
    "                else:\n",
    "                    if emotion_dict[emotion] == 'Neutral':\n",
    "                        cf_matrix[1][0] += 1\n",
    "                    elif emotion_dict[emotion] == 'Positive':\n",
    "                        cf_matrix[1][2] += 1\n",
    "                    bad_data.append([file, emotion, label])\n",
    "                # print(file, emotion, label, emotion_dict[emotion], label)\n",
    "\n",
    "        elif label2['Neutral'][i] == 2:\n",
    "            l1 = df['total_count'].tolist()\n",
    "            l2 = df['emotion'].tolist()\n",
    "            df1 = pd.DataFrame([l1,l2]).T\n",
    "            df1['index'] = df1[0]\n",
    "            a = list(range(l1[-1]+1))\n",
    "            index_df = pd.DataFrame(a, columns=['index'])\n",
    "            df2 = pd.merge(index_df, df1, how=\"outer\")\n",
    "            df2 = df2.fillna('Neutral')\n",
    "            emolist = df2[1].to_list()\n",
    "            emocount = Counter(emolist)\n",
    "            top3 = emocount.most_common(n=3)\n",
    "            l3 = []\n",
    "\n",
    "\n",
    "            total_len = len(df2)\n",
    "            p10_len = int(total_len * threshold)\n",
    "\n",
    "            if top3[0][0] == 'none':\n",
    "                if len(top3) == 1:\n",
    "                    l3.append('Neutral')\n",
    "                elif top3[1][0] == 'Neutral':\n",
    "                    if len(top3) == 3:\n",
    "                        if top3[2][1] >= p10_len:\n",
    "                            l3.append(top3[2][0])\n",
    "                        else:\n",
    "                            l3.append(top3[1][0])\n",
    "                    else:\n",
    "                        l3.append(top3[1][0])\n",
    "            elif top3[0][0] == 'Neutral':\n",
    "                if len(top3) == 1:\n",
    "                    l3.append('Neutral')\n",
    "                elif top3[1][0] == 'none':\n",
    "                    if len(top3) == 2: \n",
    "                        l3.append('Neutral')\n",
    "                    else:\n",
    "                        if top3[2][1] >= p10_len:\n",
    "                            l3.append(top3[2][0])\n",
    "                        else:\n",
    "                            l3.append(top3[0][0])\n",
    "                else:\n",
    "                    if top3[1][1] >= p10_len:\n",
    "                        l3.append(top3[1][0])\n",
    "                    else:\n",
    "                        l3.append(top3[0][0])\n",
    "            else:\n",
    "                l3.append(top3[0][0])\n",
    "            for emotion in l3:\n",
    "                h_total+=1\n",
    "                if emotion_dict[emotion] == label:\n",
    "                    h_correct += 1\n",
    "                    cf_matrix[2][2] += 1\n",
    "                else:\n",
    "                    if emotion_dict[emotion] == 'Neutral':\n",
    "                        cf_matrix[2][0] += 1\n",
    "                    elif emotion_dict[emotion] == 'Negative':\n",
    "                        cf_matrix[2][1] += 1\n",
    "                    bad_data.append([file, emotion, label])\n",
    "                # print(file, emotion, label, emotion_dict[emotion], label)\n",
    "    if thre == 15:\n",
    "        gg = copy.deepcopy(bad_data)\n",
    "        \n",
    "    n_acc = n_correct / n_total\n",
    "    h_acc = h_correct / h_total\n",
    "    e_acc = e_correct / e_total\n",
    "    acc = (n_correct+h_correct+e_correct) / (n_total+h_total+e_total)\n",
    "    print(f'threshold: {threshold}  Neutral data: {n_acc*100:0.2f}%  Negative data: {e_acc*100:0.2f}%  Positive data: {h_acc*100:0.2f}%  Total data: {acc*100:0.2f}%')\n",
    "    plot_confusion_matrix(cf_matrix, target_names=['Neutral', 'Negative', 'Positive'], normalize=False)\n",
    "    result.append([threshold, acc, n_acc, e_acc, h_acc])"
   ]
  },
  {
   "cell_type": "code",
   "execution_count": 94,
   "metadata": {},
   "outputs": [],
   "source": [
    "pd.DataFrame(result, columns=['Threshold', 'Accuracy', 'Neutral', 'Negative', 'Positive']).to_excel('/home/heemin/mv/dir/threshold.xlsx')"
   ]
  },
  {
   "cell_type": "code",
   "execution_count": 124,
   "metadata": {},
   "outputs": [
    {
     "data": {
      "text/plain": [
       "[['HJY_0', 'Neutral', 'Negative'],\n",
       " ['PSG_33', 'Neutral', 'Negative'],\n",
       " ['PSG_38', 'Neutral', 'Negative'],\n",
       " ['LYG_2_2', 'Neutral', 'Negative'],\n",
       " ['LYG_2_8', 'Neutral', 'Negative'],\n",
       " ['LYG_2_14', 'Neutral', 'Negative'],\n",
       " ['LYG_2_17', 'Neutral', 'Negative'],\n",
       " ['LYG_2_41', 'Neutral', 'Negative'],\n",
       " ['LYG_0', 'Sad', 'Positive'],\n",
       " ['PSG_0', 'Angry', 'Positive'],\n",
       " ['LJH_53', 'Neutral', 'Positive'],\n",
       " ['LYG_2_34', 'Sad', 'Positive'],\n",
       " ['LYG_2_44', 'Angry', 'Positive'],\n",
       " ['LYG_2_45', 'Sad', 'Positive'],\n",
       " ['LYG_2_46', 'Sad', 'Positive'],\n",
       " ['PJY_1', 'Angry', 'Positive'],\n",
       " ['PJY_2', 'Neutral', 'Positive'],\n",
       " ['PJY_3', 'Angry', 'Positive'],\n",
       " ['LTW_66', 'Neutral', 'Positive'],\n",
       " ['HJY_67', 'Sad', 'Neutral'],\n",
       " ['HJY_68', 'Sad', 'Neutral'],\n",
       " ['KSY_2', 'Sad', 'Neutral'],\n",
       " ['KSY_4', 'Sad', 'Neutral'],\n",
       " ['KSY_7', 'Sad', 'Neutral'],\n",
       " ['LYG_32', 'Sad', 'Neutral'],\n",
       " ['LYG_34', 'Sad', 'Neutral'],\n",
       " ['PSG_4', 'Sad', 'Neutral'],\n",
       " ['PSG_7', 'Sad', 'Neutral'],\n",
       " ['PSG_8', 'Angry', 'Neutral'],\n",
       " ['PSG_9', 'Angry', 'Neutral'],\n",
       " ['PSG_10', 'Angry', 'Neutral'],\n",
       " ['PSG_11', 'Sad', 'Neutral'],\n",
       " ['PSG_12', 'Angry', 'Neutral'],\n",
       " ['PSG_13', 'Sad', 'Neutral'],\n",
       " ['PSG_19', 'Angry', 'Neutral'],\n",
       " ['PSG_42', 'Sad', 'Neutral'],\n",
       " ['LJH_9', 'Angry', 'Neutral'],\n",
       " ['LJH_13', 'Sad', 'Neutral'],\n",
       " ['LJH_20', 'Sad', 'Neutral'],\n",
       " ['LJH_21', 'Sad', 'Neutral'],\n",
       " ['LJH_38', 'Sad', 'Neutral'],\n",
       " ['LJH_40', 'Sad', 'Neutral'],\n",
       " ['LJH_48', 'Sad', 'Neutral'],\n",
       " ['LJH_51', 'Sad', 'Neutral'],\n",
       " ['LJH_62', 'Sad', 'Neutral'],\n",
       " ['LJH_63', 'Sad', 'Neutral'],\n",
       " ['LJH_64', 'Sad', 'Neutral'],\n",
       " ['LJH_65', 'Sad', 'Neutral'],\n",
       " ['PJY_7', 'Angry', 'Neutral'],\n",
       " ['PJY_8', 'Angry', 'Neutral'],\n",
       " ['PJY_11', 'Angry', 'Neutral'],\n",
       " ['PJY_15', 'Angry', 'Neutral'],\n",
       " ['PJY_17', 'Angry', 'Neutral'],\n",
       " ['PJY_18', 'Angry', 'Neutral'],\n",
       " ['PJY_19', 'Angry', 'Neutral'],\n",
       " ['PJY_20', 'Angry', 'Neutral'],\n",
       " ['PJY_22', 'Angry', 'Neutral'],\n",
       " ['PJY_23', 'Angry', 'Neutral'],\n",
       " ['PJY_24', 'Angry', 'Neutral'],\n",
       " ['PJY_25', 'Angry', 'Neutral'],\n",
       " ['PJY_26', 'Angry', 'Neutral'],\n",
       " ['PJY_27', 'Angry', 'Neutral'],\n",
       " ['PJY_28', 'Angry', 'Neutral'],\n",
       " ['PJY_29', 'Angry', 'Neutral'],\n",
       " ['LTW_16', 'Sad', 'Neutral'],\n",
       " ['LTW_19', 'Sad', 'Neutral'],\n",
       " ['LTW_24', 'Fear', 'Neutral'],\n",
       " ['LTW_33', 'Sad', 'Neutral'],\n",
       " ['LTW_47', 'Fear', 'Neutral'],\n",
       " ['LTW_48', 'Fear', 'Neutral'],\n",
       " ['LTW_52', 'Sad', 'Neutral'],\n",
       " ['LTW_53', 'Sad', 'Neutral'],\n",
       " ['LTW_54', 'Sad', 'Neutral'],\n",
       " ['LTW_55', 'Fear', 'Neutral'],\n",
       " ['HJY_73', 'Fear', 'Neutral'],\n",
       " ['KSY_29', 'Neutral', 'Positive']]"
      ]
     },
     "execution_count": 124,
     "metadata": {},
     "output_type": "execute_result"
    }
   ],
   "source": [
    "pd.DataFrame(gg, columns=['file', 'pred', 'label']).to_excel('/home/heemin/mv/dir/bad.xlsx')\n",
    "gg"
   ]
  },
  {
   "cell_type": "code",
   "execution_count": 122,
   "metadata": {},
   "outputs": [
    {
     "name": "stdout",
     "output_type": "stream",
     "text": [
      "threshold: 0.95  Neutral data: 96.40%  Negative data: 0.00%  Positive data: 57.28%  Total data: 72.01%\n"
     ]
    },
    {
     "data": {
      "image/png": "[encoded data removed]",
      "text/plain": [
       "<Figure size 288x288 with 1 Axes>"
      ]
     },
     "metadata": {
      "needs_background": "light"
     },
     "output_type": "display_data"
    }
   ],
   "source": [
    "result = []\n",
    "n_total = 0\n",
    "n_correct = 0\n",
    "h_total = 0\n",
    "h_correct = 0\n",
    "e_total = 0\n",
    "e_correct = 0\n",
    "# threshold = 0.275\n",
    "bad_data = []\n",
    "cf_matrix = np.array([[0,0,0],\n",
    "                    [0,0,0],\n",
    "                    [0,0,0]])\n",
    "#           Neutral , Negative , Positive\n",
    "# Neutral   [0][0]     [0][1]     [0][2]\n",
    "# Negative  [1][0]     [1][1]     [1][2]\n",
    "# Positive  [2][0]     [2][1]     [2][2]\n",
    "for i in range(len(label2)):\n",
    "    file = label2['file'][i]\n",
    "    df = pd.read_csv('/home/heemin/mv/dir/csv_crop_video/'+file+'.mp4.csv', index_col=0)\n",
    "    label = label2.loc[label2['file'] == file]['true'][i]\n",
    "\n",
    "    if label2['Neutral'][i] == 0:\n",
    "        l1 = df['total_count'].tolist()\n",
    "        l2 = df['emotion'].tolist()\n",
    "        df1 = pd.DataFrame([l1,l2]).T\n",
    "        df1['index'] = df1[0]\n",
    "        a = list(range(l1[-1]+1))\n",
    "        index_df = pd.DataFrame(a, columns=['index'])\n",
    "        df2 = pd.merge(index_df, df1, how=\"outer\")\n",
    "        df2 = df2.fillna('Neutral')\n",
    "        emolist = df2[1].to_list()\n",
    "        emocount = Counter(emolist)\n",
    "        top3 = emocount.most_common(n=3)\n",
    "        l3 = []\n",
    "\n",
    "        if top3[0][0] == 'none':\n",
    "            l3.append('Neutral')\n",
    "        else:\n",
    "            l3.append(top3[0][0])\n",
    "        for emotion in l3:\n",
    "            n_total+=1\n",
    "            if emotion_dict[emotion] == label:\n",
    "                cf_matrix[0][0] += 1\n",
    "                n_correct += 1\n",
    "            else:\n",
    "                if emotion_dict[emotion] == 'Negative':\n",
    "                    cf_matrix[0][1] += 1\n",
    "                elif emotion_dict[emotion] == 'Positive':\n",
    "                    cf_matrix[0][2] += 1\n",
    "                bad_data.append([file, emotion, label])\n",
    "            # print(file, emotion, label, emotion_dict[emotion], label)\n",
    "    \n",
    "    elif label2['Neutral'][i] == 1:\n",
    "        l1 = df['total_count'].tolist()\n",
    "        l2 = df['emotion'].tolist()\n",
    "        df1 = pd.DataFrame([l1,l2]).T\n",
    "        df1['index'] = df1[0]\n",
    "        a = list(range(l1[-1]+1))\n",
    "        index_df = pd.DataFrame(a, columns=['index'])\n",
    "        df2 = pd.merge(index_df, df1, how=\"outer\")\n",
    "        df2 = df2.fillna('Neutral')\n",
    "        emolist = df2[1].to_list()\n",
    "        emocount = Counter(emolist)\n",
    "        top3 = emocount.most_common(n=3)\n",
    "        l3 = []\n",
    "\n",
    "        if top3[0][0] == 'none':\n",
    "            l3.append('Neutral')\n",
    "        else:\n",
    "            l3.append(top3[0][0])\n",
    "        for emotion in l3:\n",
    "            e_total+=1\n",
    "            if emotion_dict[emotion] == label:\n",
    "                cf_matrix[1][1] += 1\n",
    "                e_correct += 1\n",
    "            else:\n",
    "                if emotion_dict[emotion] == 'Neutral':\n",
    "                    cf_matrix[1][0] += 1\n",
    "                elif emotion_dict[emotion] == 'Positive':\n",
    "                    cf_matrix[1][2] += 1\n",
    "                bad_data.append([file, emotion, label])\n",
    "            # print(file, emotion, label, emotion_dict[emotion], label)\n",
    "\n",
    "    elif label2['Neutral'][i] == 2:\n",
    "        l1 = df['total_count'].tolist()\n",
    "        l2 = df['emotion'].tolist()\n",
    "        df1 = pd.DataFrame([l1,l2]).T\n",
    "        df1['index'] = df1[0]\n",
    "        a = list(range(l1[-1]+1))\n",
    "        index_df = pd.DataFrame(a, columns=['index'])\n",
    "        df2 = pd.merge(index_df, df1, how=\"outer\")\n",
    "        df2 = df2.fillna('Neutral')\n",
    "        emolist = df2[1].to_list()\n",
    "        emocount = Counter(emolist)\n",
    "        top3 = emocount.most_common(n=3)\n",
    "        l3 = []\n",
    "\n",
    "\n",
    "        if top3[0][0] == 'none':\n",
    "            l3.append('Neutral')\n",
    "        else:\n",
    "            l3.append(top3[0][0])\n",
    "            \n",
    "        for emotion in l3:\n",
    "            h_total+=1\n",
    "            if emotion_dict[emotion] == label:\n",
    "                h_correct += 1\n",
    "                cf_matrix[2][2] += 1\n",
    "            else:\n",
    "                if emotion_dict[emotion] == 'Neutral':\n",
    "                    cf_matrix[2][0] += 1\n",
    "                elif emotion_dict[emotion] == 'Negative':\n",
    "                    cf_matrix[2][1] += 1\n",
    "                bad_data.append([file, emotion, label])\n",
    "            # print(file, emotion, label, emotion_dict[emotion], label)\n",
    "\n",
    "    \n",
    "n_acc = n_correct / n_total\n",
    "h_acc = h_correct / h_total\n",
    "e_acc = e_correct / e_total\n",
    "acc = (n_correct+h_correct+e_correct) / (n_total+h_total+e_total)\n",
    "print(f'threshold: {threshold}  Neutral data: {n_acc*100:0.2f}%  Negative data: {e_acc*100:0.2f}%  Positive data: {h_acc*100:0.2f}%  Total data: {acc*100:0.2f}%')\n",
    "plot_confusion_matrix(cf_matrix, target_names=['Neutral', 'Negative', 'Positive'], normalize=False)\n",
    "result.append([threshold, acc, n_acc, e_acc, h_acc])"
   ]
  },
  {
   "cell_type": "code",
   "execution_count": 36,
   "metadata": {},
   "outputs": [
    {
     "data": {
      "text/plain": [
       "array([[134,   5,   0],\n",
       "       [  7,   0,   0],\n",
       "       [ 35,   1,  58]])"
      ]
     },
     "execution_count": 36,
     "metadata": {},
     "output_type": "execute_result"
    }
   ],
   "source": [
    "cf_matrix"
   ]
  },
  {
   "cell_type": "code",
   "execution_count": 44,
   "metadata": {},
   "outputs": [],
   "source": [
    "import matplotlib.pyplot as plt\n",
    "import itertools\n",
    "def plot_confusion_matrix(cm, target_names=None, cmap=None, normalize=True, labels=True, title='Confusion matrix'):\n",
    "    accuracy = np.trace(cm) / float(np.sum(cm))\n",
    "    misclass = 1 - accuracy\n",
    "\n",
    "    if cmap is None:\n",
    "        cmap = plt.get_cmap('Blues')\n",
    "\n",
    "    if normalize:\n",
    "        cm = cm.astype('float') / cm.sum(axis=1)[:, np.newaxis]\n",
    "        \n",
    "    plt.figure(figsize=(4, 4))\n",
    "    plt.imshow(cm, interpolation='nearest', cmap=cmap)\n",
    "    plt.title(title)\n",
    "\n",
    "    thresh = cm.max() / 1.5 if normalize else cm.max() / 2\n",
    "    \n",
    "    if target_names is not None:\n",
    "        tick_marks = np.arange(len(target_names))\n",
    "        plt.xticks(tick_marks, target_names)\n",
    "        plt.yticks(tick_marks, target_names)\n",
    "    \n",
    "    if labels:\n",
    "        for i, j in itertools.product(range(cm.shape[0]), range(cm.shape[1])):\n",
    "            if normalize:\n",
    "                plt.text(j, i, \"{:0.4f}\".format(cm[i, j]),\n",
    "                         horizontalalignment=\"center\",\n",
    "                         color=\"white\" if cm[i, j] > thresh else \"black\")\n",
    "            else:\n",
    "                plt.text(j, i, \"{:,}\".format(cm[i, j]),\n",
    "                         horizontalalignment=\"center\",\n",
    "                         color=\"white\" if cm[i, j] > thresh else \"black\")\n",
    "\n",
    "    plt.tight_layout()\n",
    "    plt.ylabel('True label')\n",
    "    plt.xlabel('Predicted label\\naccuracy={:0.4f}; misclass={:0.4f}'.format(accuracy, misclass))\n",
    "    plt.show()"
   ]
  },
  {
   "cell_type": "code",
   "execution_count": 47,
   "metadata": {},
   "outputs": [
    {
     "data": {
      "image/png": "[encoded data removed]",
      "text/plain": [
       "<Figure size 288x288 with 2 Axes>"
      ]
     },
     "metadata": {
      "needs_background": "light"
     },
     "output_type": "display_data"
    }
   ],
   "source": [
    "plot_confusion_matrix(cf_matrix, target_names=['Neutral', 'Negative', 'Positive'], normalize=False)"
   ]
  },
  {
   "cell_type": "code",
   "execution_count": 125,
   "metadata": {},
   "outputs": [
    {
     "name": "stdout",
     "output_type": "stream",
     "text": [
      "HJY_0 Happy Negative\n",
      "HJY_1 Neutral Negative\n",
      "HJY_2 Neutral Negative\n",
      "HJY_3 Neutral Neutral\n",
      "HJY_4 Neutral Neutral\n",
      "HJY_5 Neutral Positive\n",
      "HJY_6 Happy Positive\n",
      "HJY_7 Happy Positive\n",
      "HJY_12 Neutral Neutral\n",
      "HJY_14 Neutral Neutral\n",
      "HJY_15 Neutral Neutral\n",
      "HJY_16 Neutral Neutral\n",
      "HJY_17 Neutral Neutral\n",
      "HJY_18 Neutral Neutral\n",
      "HJY_20 Neutral Neutral\n",
      "HJY_22 Happy Positive\n",
      "HJY_23 Happy Positive\n",
      "HJY_24 Happy Positive\n",
      "HJY_25 Happy Positive\n",
      "HJY_27 Happy Positive\n",
      "HJY_28 Happy Positive\n",
      "HJY_29 Neutral Positive\n",
      "HJY_30 Happy Positive\n",
      "HJY_36 Neutral Neutral\n",
      "HJY_40 Neutral Positive\n",
      "HJY_41 Happy Positive\n",
      "HJY_42 Happy Positive\n",
      "HJY_58 Happy Positive\n",
      "HJY_64 Happy Positive\n",
      "HJY_65 Neutral Neutral\n",
      "HJY_66 Neutral Neutral\n",
      "HJY_67 Sad Neutral\n",
      "HJY_68 Neutral Neutral\n",
      "HJY_69 Neutral Neutral\n",
      "HJY_70 Neutral Neutral\n",
      "HJY_71 Neutral Neutral\n",
      "HJY_72 Neutral Neutral\n",
      "HJY_73 Neutral Neutral\n",
      "KSY_2 Sad Neutral\n",
      "KSY_4 Sad Neutral\n",
      "KSY_5 Neutral Neutral\n",
      "KSY_6 Neutral Neutral\n",
      "KSY_7 Neutral Neutral\n",
      "KSY_9 Neutral Neutral\n",
      "KSY_10 Neutral Neutral\n",
      "KSY_11 Neutral Neutral\n",
      "KSY_12 Neutral Neutral\n",
      "KSY_13 Neutral Neutral\n",
      "KSY_14 Neutral Neutral\n",
      "KSY_15 Neutral Neutral\n",
      "KSY_16 Neutral Neutral\n",
      "KSY_17 Neutral Neutral\n",
      "KSY_18 Neutral Neutral\n",
      "KSY_19 Neutral Neutral\n",
      "KSY_20 Neutral Neutral\n",
      "KSY_21 Happy Positive\n",
      "KSY_22 Happy Positive\n",
      "KSY_23 Happy Positive\n",
      "KSY_24 Happy Positive\n",
      "KSY_25 Happy Positive\n",
      "KSY_26 Happy Positive\n",
      "KSY_27 Happy Positive\n",
      "KSY_28 Happy Positive\n",
      "KSY_29 Neutral Positive\n",
      "KSY_31 Neutral Neutral\n",
      "KSY_32 Neutral Neutral\n",
      "KSY_33 Neutral Neutral\n",
      "KSY_34 Neutral Neutral\n",
      "KSY_35 Neutral Neutral\n",
      "KSY_36 Neutral Neutral\n",
      "KSY_38 Neutral Neutral\n",
      "KSY_39 Neutral Neutral\n",
      "KSY_41 Neutral Neutral\n",
      "KSY_42 Neutral Neutral\n",
      "KSY_43 Neutral Neutral\n",
      "KSY_44 Neutral Neutral\n",
      "KSY_45 Happy Positive\n",
      "KSY_46 Happy Positive\n",
      "KSY_47 Happy Positive\n",
      "KSY_48 Happy Positive\n",
      "KSY_49 Happy Positive\n",
      "KSY_50 Happy Positive\n",
      "KSY_51 Happy Positive\n",
      "KSY_52 Happy Positive\n",
      "KSY_53 Happy Positive\n",
      "KSY_54 Happy Positive\n",
      "KSY_55 Happy Positive\n",
      "KSY_56 Happy Positive\n",
      "KSY_57 Happy Positive\n",
      "KSY_58 Happy Positive\n",
      "KSY_59 Happy Positive\n",
      "KSY_60 Neutral Neutral\n",
      "KSY_61 Neutral Neutral\n",
      "KSY_62 Neutral Neutral\n",
      "KSY_63 Neutral Neutral\n",
      "KSY_64 Neutral Neutral\n",
      "KSY_65 Neutral Neutral\n",
      "KSY_66 Neutral Neutral\n",
      "KSY_67 Happy Positive\n",
      "LYG_0 Sad Positive\n",
      "LYG_32 Sad Neutral\n",
      "LYG_34 Sad Neutral\n",
      "PSG_0 Neutral Positive\n",
      "PSG_3 Neutral Negative\n",
      "PSG_4 Neutral Neutral\n",
      "PSG_6 Neutral Neutral\n",
      "PSG_7 Neutral Neutral\n",
      "PSG_8 Angry Neutral\n",
      "PSG_9 Neutral Neutral\n",
      "PSG_10 Neutral Neutral\n",
      "PSG_11 Neutral Neutral\n",
      "PSG_12 Neutral Neutral\n",
      "PSG_13 Sad Neutral\n",
      "PSG_14 Neutral Neutral\n",
      "PSG_15 Neutral Neutral\n",
      "PSG_16 Neutral Neutral\n",
      "PSG_17 Neutral Neutral\n",
      "PSG_18 Neutral Neutral\n",
      "PSG_19 Neutral Neutral\n",
      "PSG_20 Neutral Neutral\n",
      "PSG_24 Neutral Positive\n",
      "PSG_25 Happy Positive\n",
      "PSG_33 Neutral Negative\n",
      "PSG_35 Happy Positive\n",
      "PSG_38 Neutral Negative\n",
      "PSG_39 Neutral Neutral\n",
      "PSG_41 Neutral Neutral\n",
      "PSG_42 Sad Neutral\n",
      "LJH_0 Happy Positive\n",
      "LJH_1 Neutral Positive\n",
      "LJH_4 Happy Positive\n",
      "LJH_6 Neutral Neutral\n",
      "LJH_7 Neutral Neutral\n",
      "LJH_8 Neutral Neutral\n",
      "LJH_9 Neutral Neutral\n",
      "LJH_11 Neutral Neutral\n",
      "LJH_12 Neutral Neutral\n",
      "LJH_13 Neutral Neutral\n",
      "LJH_14 Neutral Neutral\n",
      "LJH_15 Happy Positive\n",
      "LJH_16 Happy Positive\n",
      "LJH_20 Neutral Neutral\n",
      "LJH_21 Neutral Neutral\n",
      "LJH_23 Neutral Neutral\n",
      "LJH_26 Happy Positive\n",
      "LJH_27 Happy Positive\n",
      "LJH_37 Neutral Neutral\n",
      "LJH_38 Neutral Neutral\n",
      "LJH_40 Neutral Neutral\n",
      "LJH_42 Neutral Neutral\n",
      "LJH_43 Neutral Neutral\n",
      "LJH_48 Sad Neutral\n",
      "LJH_51 Neutral Neutral\n",
      "LJH_53 Neutral Positive\n",
      "LJH_62 Sad Neutral\n",
      "LJH_63 Sad Neutral\n",
      "LJH_64 Sad Neutral\n",
      "LJH_65 Sad Neutral\n",
      "PJY_0 Happy Positive\n",
      "PJY_1 Angry Positive\n",
      "PJY_2 Neutral Positive\n",
      "PJY_3 Angry Positive\n",
      "PJY_4 Happy Positive\n",
      "PJY_5 Happy Positive\n",
      "PJY_6 Happy Positive\n",
      "PJY_7 Angry Neutral\n",
      "PJY_8 Angry Neutral\n",
      "PJY_9 Neutral Neutral\n",
      "PJY_10 Neutral Neutral\n",
      "PJY_11 Neutral Neutral\n",
      "PJY_12 Neutral Neutral\n",
      "PJY_13 Neutral Neutral\n",
      "PJY_15 Angry Neutral\n",
      "PJY_16 Neutral Neutral\n",
      "PJY_17 Angry Neutral\n",
      "PJY_18 Neutral Neutral\n",
      "PJY_19 Angry Neutral\n",
      "PJY_20 Neutral Neutral\n",
      "PJY_22 Neutral Neutral\n",
      "PJY_23 Angry Neutral\n",
      "PJY_24 Angry Neutral\n",
      "PJY_25 Angry Neutral\n",
      "PJY_26 Angry Neutral\n",
      "PJY_27 Angry Neutral\n",
      "PJY_28 Neutral Neutral\n",
      "PJY_29 Angry Neutral\n",
      "LTW_0 Happy Positive\n",
      "LTW_4 Happy Positive\n",
      "LTW_5 Neutral Positive\n",
      "LTW_6 Happy Positive\n",
      "LTW_7 Neutral Positive\n",
      "LTW_8 Happy Positive\n",
      "LTW_11 Happy Positive\n",
      "LTW_12 Happy Positive\n",
      "LTW_13 Happy Positive\n",
      "LTW_16 Neutral Neutral\n",
      "LTW_19 Sad Neutral\n",
      "LTW_24 Neutral Neutral\n",
      "LTW_25 Neutral Neutral\n",
      "LTW_26 Neutral Neutral\n",
      "LTW_31 Neutral Neutral\n",
      "LTW_32 Neutral Neutral\n",
      "LTW_33 Neutral Neutral\n",
      "LTW_35 Happy Positive\n",
      "LTW_36 Neutral Positive\n",
      "LTW_37 Happy Positive\n",
      "LTW_38 Happy Positive\n",
      "LTW_42 Happy Positive\n",
      "LTW_44 Happy Positive\n",
      "LTW_47 Fear Neutral\n",
      "LTW_48 Fear Neutral\n",
      "LTW_50 Neutral Neutral\n",
      "LTW_52 Neutral Neutral\n",
      "LTW_53 Sad Neutral\n",
      "LTW_54 Neutral Neutral\n",
      "LTW_55 Fear Neutral\n",
      "LTW_56 Neutral Neutral\n",
      "LTW_58 Happy Positive\n",
      "LTW_59 Happy Positive\n",
      "LTW_60 Happy Positive\n",
      "LTW_61 Happy Positive\n",
      "LTW_62 Happy Positive\n",
      "LTW_64 Happy Positive\n",
      "LTW_65 Happy Positive\n",
      "LTW_66 Neutral Positive\n",
      "LTW_67 Happy Positive\n",
      "LTW_68 Happy Positive\n",
      "LTW_69 Happy Positive\n",
      "LTW_70 Happy Positive\n",
      "LTW_71 Happy Positive\n",
      "LTW_73 Happy Positive\n",
      "LTW_74 Happy Positive\n",
      "LTW_75 Neutral Neutral\n",
      "LTW_78 Neutral Neutral\n",
      "LTW_82 Neutral Neutral\n",
      "LTW_84 Neutral Neutral\n",
      "Accuracy for Neutral data: 79.14%\n",
      "Accuracy for Emotion data: 77.32%\n",
      "Accuracy for Total data: 78.39%\n",
      "\n"
     ]
    }
   ],
   "source": [
    "n_total = 0\n",
    "n_correct = 0\n",
    "e_total = 0\n",
    "e_correct = 0\n",
    "theshold = 0.275\n",
    "bad_data = []\n",
    "for i in range(len(label2)):\n",
    "    file = label2['file'][i]\n",
    "    df = pd.read_csv('/Users/heemin/Documents/DHLab/mv/project/csv_crop_video/'+file+'.mp4.csv', index_col=0)\n",
    "    label = label2.loc[label2['file'] == file]['true'][i]\n",
    "\n",
    "    if label2['Neutral'][i] == 0:\n",
    "        l1 = df['total_count'].tolist()\n",
    "        l2 = df['emotion'].tolist()\n",
    "        df1 = pd.DataFrame([l1,l2]).T\n",
    "        a = list(range(l1[-1]+1))\n",
    "        index_df = pd.DataFrame(a)\n",
    "        df2 = pd.merge(index_df, df1, how=\"outer\")\n",
    "        df2 = df2.fillna('none')\n",
    "        emolist = df2[1].to_list()\n",
    "        emocount = Counter(emolist)\n",
    "        top3 = emocount.most_common(n=3)\n",
    "        l3 = []\n",
    "\n",
    "\n",
    "        total_len = len(l1)\n",
    "        p10_len = int(total_len * theshold)\n",
    "\n",
    "        if top3[0][0] == 'none':\n",
    "            if len(top3) == 1:\n",
    "                l3.append('Neutral')\n",
    "            elif top3[1][0] == 'Neutral':\n",
    "                if top3[2][1] >= p10_len:\n",
    "                    l3.append(top3[2][0])\n",
    "                else:\n",
    "                    l3.append(top3[1][0])\n",
    "        elif top3[0][0] == 'Neutral':\n",
    "            if len(top3) == 1:\n",
    "                l3.append('Neutral')\n",
    "            elif top3[1][0] == 'none':\n",
    "                if len(top3) == 2: \n",
    "                    l3.append('Neutral')\n",
    "                else:\n",
    "                    if top3[2][1] >= p10_len:\n",
    "                        l3.append(top3[2][0])\n",
    "                    else:\n",
    "                        l3.append(top3[0][0])\n",
    "            else:\n",
    "                if top3[1][1] >= p10_len:\n",
    "                    l3.append(top3[1][0])\n",
    "                else:\n",
    "                    l3.append(top3[0][0])\n",
    "\n",
    "        else:\n",
    "            l3.append(top3[0][0])\n",
    "        for emotion in l3:\n",
    "            e_total+=1\n",
    "            if emotion_dict[emotion] == label:\n",
    "                e_correct += 1\n",
    "            else:\n",
    "                bad_data.append([file, emotion, label])\n",
    "            print(file, emotion, label)\n",
    "    \n",
    "    else:\n",
    "        l1 = df['total_count'].tolist()\n",
    "        l2 = df['emotion'].tolist()\n",
    "        df1 = pd.DataFrame([l1,l2]).T\n",
    "        a = list(range(l1[-1]+1))\n",
    "        index_df = pd.DataFrame(a)\n",
    "        df2 = pd.merge(index_df, df1, how=\"outer\")\n",
    "        df2 = df2.fillna('none')\n",
    "        emolist = df2[1].to_list()\n",
    "        emocount = Counter(emolist)\n",
    "        top3 = emocount.most_common(n=3)\n",
    "        l3 = []\n",
    "\n",
    "\n",
    "        total_len = len(l1)\n",
    "        p10_len = int(total_len * theshold)\n",
    "\n",
    "        if top3[0][0] == 'none':\n",
    "            if len(top3) == 1:\n",
    "                l3.append('Neutral')\n",
    "            elif top3[1][0] == 'Neutral':\n",
    "                if top3[2][1] >= p10_len:\n",
    "                    l3.append(top3[2][0])\n",
    "                else:\n",
    "                    l3.append(top3[1][0])\n",
    "        elif top3[0][0] == 'Neutral':\n",
    "            if len(top3) == 1:\n",
    "                l3.append('Neutral')\n",
    "            elif top3[1][0] == 'none':\n",
    "                if len(top3) == 2: \n",
    "                    l3.append('Neutral')\n",
    "                else:\n",
    "                    if top3[2][1] >= p10_len:\n",
    "                        l3.append(top3[2][0])\n",
    "                    else:\n",
    "                        l3.append(top3[0][0])\n",
    "            else:\n",
    "                if top3[1][1] >= p10_len:\n",
    "                    l3.append(top3[1][0])\n",
    "                else:\n",
    "                    l3.append(top3[0][0])\n",
    "        else:\n",
    "            l3.append(top3[0][0])\n",
    "        for emotion in l3:\n",
    "            n_total+=1\n",
    "            if emotion_dict[emotion] == label:\n",
    "                n_correct += 1\n",
    "            else:\n",
    "                bad_data.append([file, emotion, label])\n",
    "            print(file, emotion, label)\n",
    "    \n",
    "n_acc = n_correct / n_total\n",
    "e_acc = e_correct / e_total\n",
    "acc = (n_correct+e_correct) / (n_total+e_total)\n",
    "print(f'Accuracy for Neutral data: {n_acc*100:0.2f}%\\nAccuracy for Emotion data: {e_acc*100:0.2f}%\\nAccuracy for Total data: {acc*100:0.2f}%\\n')"
   ]
  },
  {
   "cell_type": "code",
   "execution_count": 23,
   "metadata": {},
   "outputs": [
    {
     "data": {
      "text/html": [
       "<div>\n",
       "<style scoped>\n",
       "    .dataframe tbody tr th:only-of-type {\n",
       "        vertical-align: middle;\n",
       "    }\n",
       "\n",
       "    .dataframe tbody tr th {\n",
       "        vertical-align: top;\n",
       "    }\n",
       "\n",
       "    .dataframe thead th {\n",
       "        text-align: right;\n",
       "    }\n",
       "</style>\n",
       "<table border=\"1\" class=\"dataframe\">\n",
       "  <thead>\n",
       "    <tr style=\"text-align: right;\">\n",
       "      <th></th>\n",
       "      <th>emotion</th>\n",
       "      <th>label</th>\n",
       "    </tr>\n",
       "  </thead>\n",
       "  <tbody>\n",
       "    <tr>\n",
       "      <th>0</th>\n",
       "      <td>Angry</td>\n",
       "      <td>3</td>\n",
       "    </tr>\n",
       "    <tr>\n",
       "      <th>1</th>\n",
       "      <td>Neutral</td>\n",
       "      <td>3</td>\n",
       "    </tr>\n",
       "    <tr>\n",
       "      <th>2</th>\n",
       "      <td>Fear</td>\n",
       "      <td>1</td>\n",
       "    </tr>\n",
       "    <tr>\n",
       "      <th>3</th>\n",
       "      <td>Sad</td>\n",
       "      <td>1</td>\n",
       "    </tr>\n",
       "  </tbody>\n",
       "</table>\n",
       "</div>"
      ],
      "text/plain": [
       "   emotion  label\n",
       "0    Angry      3\n",
       "1  Neutral      3\n",
       "2     Fear      1\n",
       "3      Sad      1"
      ]
     },
     "execution_count": 23,
     "metadata": {},
     "output_type": "execute_result"
    }
   ],
   "source": [
    "bd = pd.DataFrame(bad_data, columns=['file', 'emotion', 'label'])\n",
    "bd[bd['label']=='Positive'][['emotion', 'label']].groupby('emotion').count().sort_values(by='label', ascending=False).reset_index()"
   ]
  },
  {
   "cell_type": "code",
   "execution_count": 24,
   "metadata": {},
   "outputs": [
    {
     "data": {
      "text/html": [
       "<div>\n",
       "<style scoped>\n",
       "    .dataframe tbody tr th:only-of-type {\n",
       "        vertical-align: middle;\n",
       "    }\n",
       "\n",
       "    .dataframe tbody tr th {\n",
       "        vertical-align: top;\n",
       "    }\n",
       "\n",
       "    .dataframe thead th {\n",
       "        text-align: right;\n",
       "    }\n",
       "</style>\n",
       "<table border=\"1\" class=\"dataframe\">\n",
       "  <thead>\n",
       "    <tr style=\"text-align: right;\">\n",
       "      <th></th>\n",
       "      <th>emotion</th>\n",
       "      <th>label</th>\n",
       "    </tr>\n",
       "  </thead>\n",
       "  <tbody>\n",
       "    <tr>\n",
       "      <th>0</th>\n",
       "      <td>Neutral</td>\n",
       "      <td>2</td>\n",
       "    </tr>\n",
       "    <tr>\n",
       "      <th>1</th>\n",
       "      <td>Happy</td>\n",
       "      <td>1</td>\n",
       "    </tr>\n",
       "  </tbody>\n",
       "</table>\n",
       "</div>"
      ],
      "text/plain": [
       "   emotion  label\n",
       "0  Neutral      2\n",
       "1    Happy      1"
      ]
     },
     "execution_count": 24,
     "metadata": {},
     "output_type": "execute_result"
    }
   ],
   "source": [
    "bd[bd['label']=='Negative'][['emotion', 'label']].groupby('emotion').count().sort_values(by='label', ascending=False).reset_index()"
   ]
  },
  {
   "cell_type": "code",
   "execution_count": 25,
   "metadata": {},
   "outputs": [
    {
     "data": {
      "text/html": [
       "<div>\n",
       "<style scoped>\n",
       "    .dataframe tbody tr th:only-of-type {\n",
       "        vertical-align: middle;\n",
       "    }\n",
       "\n",
       "    .dataframe tbody tr th {\n",
       "        vertical-align: top;\n",
       "    }\n",
       "\n",
       "    .dataframe thead th {\n",
       "        text-align: right;\n",
       "    }\n",
       "</style>\n",
       "<table border=\"1\" class=\"dataframe\">\n",
       "  <thead>\n",
       "    <tr style=\"text-align: right;\">\n",
       "      <th></th>\n",
       "      <th>emotion</th>\n",
       "      <th>label</th>\n",
       "    </tr>\n",
       "  </thead>\n",
       "  <tbody>\n",
       "    <tr>\n",
       "      <th>0</th>\n",
       "      <td>Fear</td>\n",
       "      <td>2</td>\n",
       "    </tr>\n",
       "    <tr>\n",
       "      <th>1</th>\n",
       "      <td>Sad</td>\n",
       "      <td>2</td>\n",
       "    </tr>\n",
       "    <tr>\n",
       "      <th>2</th>\n",
       "      <td>Angry</td>\n",
       "      <td>1</td>\n",
       "    </tr>\n",
       "  </tbody>\n",
       "</table>\n",
       "</div>"
      ],
      "text/plain": [
       "  emotion  label\n",
       "0    Fear      2\n",
       "1     Sad      2\n",
       "2   Angry      1"
      ]
     },
     "execution_count": 25,
     "metadata": {},
     "output_type": "execute_result"
    }
   ],
   "source": [
    "bd[bd['label']=='Neutral'][['emotion', 'label']].groupby('emotion').count().sort_values(by='label', ascending=False).reset_index()"
   ]
  },
  {
   "cell_type": "code",
   "execution_count": 26,
   "metadata": {},
   "outputs": [],
   "source": [
    "bd[bd['label']=='Neutral'].to_excel('/Users/heemin/Documents/DHLab/mv/project/baddata_Neutral.xlsx')"
   ]
  },
  {
   "cell_type": "code",
   "execution_count": null,
   "metadata": {},
   "outputs": [],
   "source": [
    "total = 0\n",
    "correct = 0\n",
    "e_total = 0\n",
    "e_correct = 0\n",
    "for i in range(len(label2)):\n",
    "    file = label2['file'][i]\n",
    "    df = pd.read_csv('/Users/heemin/Documents/DHLab/mv/project/csv_crop/'+file+'.mp4.csv', index_col=0)\n",
    "    label = label2.loc[label2['file'] == file]['true'][i]\n",
    "\n",
    "    if label2['Neutral'][i] == 0:\n",
    "        l1 = df['total_count'].tolist()\n",
    "        l2 = df['emotion'].tolist()\n",
    "        df1 = pd.DataFrame([l1,l2]).T\n",
    "        a = list(range(l1[-1]+1))\n",
    "        index_df = pd.DataFrame(a)\n",
    "        df2 = pd.merge(index_df, df1, how=\"outer\")\n",
    "        df2 = df2.fillna('none')\n",
    "        l3 = []\n",
    "        split = 0\n",
    "        for i in range(len(df2)):\n",
    "            if i % 25 == 0 and i != 0 or i == len(df2): # 25 frame 마다 연산\n",
    "                emolist = df2[1][split:i].to_list()\n",
    "                emocount = Counter(emolist)\n",
    "                top3 = emocount.most_common(n=3)\n",
    "                if len(top3) == 0: # top3 감정이 없음 = 해당 1초에 감정이 인식되지 않음\n",
    "                    continue\n",
    "                    l3.append([i, 'Neutral'])\n",
    "                else:\n",
    "                    if top3[0][0] == 'none': # top1이 none일때\n",
    "                        if len(top3) == 1: # 1초 동안 none만 인식됐을때\n",
    "                            continue\n",
    "                            l3.append([i, 'Neutral']) # 중립감정으로 변경\n",
    "                        else:\n",
    "                            l3.append([i, top3[1][0]]) # none 외의 감정이 있을 경우, 그 감정으로\n",
    "                    elif top3[0][0] == 'Neutral': # top1이 중립일때\n",
    "                        if len(top3) == 1: # 1초 동안 중립만 인식됐을때\n",
    "                            l3.append([i, top3[0][0]]) # 중립으로\n",
    "                        elif top3[0][1] >= 2: # top2가 25프레임 중 3 이상일때 (25frame의 10%)\n",
    "                            if top3[1][0] == 'none': # top2가 none이면\n",
    "                                if len(top3) == 2: \n",
    "                                    continue\n",
    "                                    l3.append([i, 'Neutral']) # 중립, none, 2개만 있을 경우, 중립으로 변경\n",
    "                                else:\n",
    "                                    l3.append([i, top3[2][0]]) # 그외의 감정이 있다면 그 감정으로\n",
    "                            else:\n",
    "                                l3.append([i, top3[1][0]]) # top2가 none이 아니면 그 감정으로\n",
    "                        else: # 1초 동안 중립을 포함한 2개 이상의 감정을 인식하고, 25프레임 중 top2 감정이 3이하 일때\n",
    "                            if top3[1][0] == 'none': # top2가 none 일 경우\n",
    "                                if len(top3) == 2: # 중립과 none만 있다면 중립으로\n",
    "                                    continue\n",
    "                                    l3.append([i, 'Neutral'])\n",
    "                                else: # 그외의 감정이 있다면 그 감정으로\n",
    "                                    l3.append([i, top3[2][0]])\n",
    "                            else: # 그 외는 첫 감정으로\n",
    "                                l3.append([i, top3[0][0]])\n",
    "                    else: # top1이 none 외의 감정일때 그 감정으로 인식한다.\n",
    "                        l3.append([i, top3[0][0]])\n",
    "                split+=25\n",
    "        # pd.DataFrame(l3, columns=[['count','emotion']]).to_csv('/Users/heemin/Documents/DHLab/mv/project/dir/emotion_top3/'+j[1])\n",
    "        for scound, emotion in l3:\n",
    "            e_total+=1\n",
    "            if emotion_dict[emotion] == label:\n",
    "                e_correct += 1\n",
    "            print(file, emotion, label)\n",
    "        \n",
    "    else:\n",
    "        l1 = df['total_count'].tolist()\n",
    "        l2 = df['emotion'].tolist()\n",
    "        df1 = pd.DataFrame([l1,l2]).T\n",
    "        a = list(range(l1[-1]+1))\n",
    "        index_df = pd.DataFrame(a)\n",
    "        df2 = pd.merge(index_df, df1, how=\"outer\")\n",
    "        df2 = df2.fillna('none')\n",
    "        l3 = []\n",
    "        split = 0\n",
    "        for i in range(len(df2)):\n",
    "            if i % 25 == 0 and i != 0 or i == len(df2): # 25 frame 마다 연산\n",
    "                emolist = df2[1][split:i].to_list()\n",
    "                emocount = Counter(emolist)\n",
    "                top3 = emocount.most_common(n=3)\n",
    "                if len(top3) == 0: # top3 감정이 없음 = 해당 1초에 감정이 인식되지 않음\n",
    "                    l3.append([i, 'Neutral'])\n",
    "                else:\n",
    "                    if top3[0][0] == 'none': # top1이 none일때\n",
    "                        if len(top3) == 1: # 1초 동안 none만 인식됐을때\n",
    "                            l3.append([i, 'Neutral']) # 중립감정으로 변경\n",
    "                    elif top3[0][0] == 'Neutral': # top1이 중립일때\n",
    "                        if len(top3) == 1: # 1초 동안 중립만 인식됐을때\n",
    "                            l3.append([i, top3[0][0]]) # 중립으로\n",
    "                        elif top3[0][1] >= 2: # top2가 25프레임 중 3 이상일때 (25frame의 10%)\n",
    "                            if top3[1][0] == 'none': # top2가 none이면\n",
    "                                if len(top3) == 2: \n",
    "                                    l3.append([i, 'Neutral']) # 중립, none, 2개만 있을 경우, 중립으로 변경\n",
    "                                else:\n",
    "                                    l3.append([i, top3[2][0]]) # 그외의 감정이 있다면 그 감정으로\n",
    "                            else:\n",
    "                                l3.append([i, top3[1][0]]) # top2가 none이 아니면 그 감정으로\n",
    "                        else: # 1초 동안 중립을 포함한 2개 이상의 감정을 인식하고, 25프레임 중 top2 감정이 3이하 일때\n",
    "                            if top3[1][0] == 'none': # top2가 none 일 경우\n",
    "                                l3.append([i, 'Neutral'])\n",
    "                            else: # 그 외는 첫 감정으로\n",
    "                                l3.append([i, top3[0][0]])\n",
    "                    else: # top1이 none 외의 감정일때 그 감정으로 인식한다.\n",
    "                        l3.append([i, top3[0][0]])\n",
    "                split+=25\n",
    "        # pd.DataFrame(l3, columns=[['count','emotion']]).to_csv('/Users/heemin/Documents/DHLab/mv/project/dir/emotion_top3/'+j[1])\n",
    "        for scound, emotion in l3:\n",
    "            total+=1\n",
    "            if emotion_dict[emotion] == label:\n",
    "                correct += 1\n",
    "            print(file, emotion, label)\n",
    "acc = correct / total\n",
    "e_acc = e_correct / e_total"
   ]
  },
  {
   "cell_type": "code",
   "execution_count": 20,
   "metadata": {},
   "outputs": [],
   "source": [
    "for idx in range(len(label2)):\n",
    "    file = label2['file'][idx]\n",
    "    df1 = pd.read_csv('/Users/heemin/Documents/DHLab/mv/project/csv/'+file+'.mp4.csv')[['total_count', 'emotion']]\n",
    "    end_frame = int(df1['total_count'][-1:])\n",
    "    df2 = pd.merge(pd.DataFrame([i for i in range(1, end_frame+1)], columns=['total_count']), df1, how='outer').fillna('Neutral')\n",
    "    if label2['Neutral'][idx] == 0:\n",
    "        split = 0\n",
    "        frame2scound = []\n",
    "        crop_frame_start = 0\n",
    "\n",
    "        for i in range(1, end_frame+1):\n",
    "            if i % 25 == 0 or i == end_frame+1:\n",
    "                emolist = df2['emotion'][split:i].to_list()\n",
    "                emocount = Counter(emolist)\n",
    "                top3 = emocount.most_common(n=3)\n",
    "                if len(top3) == 0: # top3 감정이 없음 = 해당 1초에 감정이 인식되지 않음\n",
    "                    crop_frame_start = i\n",
    "                elif len(top3) == 1:\n",
    "                    if top3[0][0] == 'Neutral':\n",
    "                        crop_frame_start = i\n",
    "                    else:\n",
    "                        continue\n",
    "                else:\n",
    "                    continue\n",
    "                split += 25\n",
    "\n",
    "        if end_frame%25 >0:\n",
    "            r_end_frame = end_frame//25*25+25\n",
    "        else:\n",
    "            r_end_frame = end_frame//25*25\n",
    "        crop_frame_end = r_end_frame\n",
    "        reverse_df2 = pd.merge(pd.DataFrame([i for i in range(r_end_frame, -1, -1)], columns=['total_count']), df1, how='outer').fillna('Neutral')\n",
    "        split = 0\n",
    "        for i in range(1, end_frame+1):\n",
    "            if i % 25 == 0 or i == end_frame+1:\n",
    "                emolist = reverse_df2['emotion'][split:i].to_list()\n",
    "                emocount = Counter(emolist)\n",
    "                top3 = emocount.most_common(n=3)\n",
    "                if len(top3) == 0: # top3 감정이 없음 = 해당 1초에 감정이 인식되지 않음\n",
    "                    crop_frame_end = i\n",
    "                elif len(top3) == 1:\n",
    "                    if top3[0][0] == 'Neutral':\n",
    "                        crop_frame_end = i\n",
    "                split += 25\n",
    "        if crop_frame_start == crop_frame_end:\n",
    "            crop_frame_start = 0\n",
    "            crop_frame_end = r_end_frame\n",
    "        df3 = df2[crop_frame_start:crop_frame_end]\n",
    "    else:\n",
    "        df3 = df2\n",
    "    df3.to_csv('/Users/heemin/Documents/DHLab/mv/project/csv_crop/'+file+'.mp4.csv')\n"
   ]
  },
  {
   "cell_type": "code",
   "execution_count": 21,
   "metadata": {},
   "outputs": [
    {
     "data": {
      "text/html": [
       "<div>\n",
       "<style scoped>\n",
       "    .dataframe tbody tr th:only-of-type {\n",
       "        vertical-align: middle;\n",
       "    }\n",
       "\n",
       "    .dataframe tbody tr th {\n",
       "        vertical-align: top;\n",
       "    }\n",
       "\n",
       "    .dataframe thead th {\n",
       "        text-align: right;\n",
       "    }\n",
       "</style>\n",
       "<table border=\"1\" class=\"dataframe\">\n",
       "  <thead>\n",
       "    <tr style=\"text-align: right;\">\n",
       "      <th></th>\n",
       "      <th>0</th>\n",
       "      <th>1</th>\n",
       "      <th>2</th>\n",
       "      <th>3</th>\n",
       "      <th>4</th>\n",
       "      <th>5</th>\n",
       "      <th>6</th>\n",
       "      <th>7</th>\n",
       "      <th>8</th>\n",
       "      <th>9</th>\n",
       "      <th>...</th>\n",
       "      <th>66</th>\n",
       "      <th>67</th>\n",
       "      <th>68</th>\n",
       "      <th>69</th>\n",
       "      <th>70</th>\n",
       "      <th>71</th>\n",
       "      <th>72</th>\n",
       "      <th>73</th>\n",
       "      <th>74</th>\n",
       "      <th>75</th>\n",
       "    </tr>\n",
       "  </thead>\n",
       "  <tbody>\n",
       "    <tr>\n",
       "      <th>total_count</th>\n",
       "      <td>75</td>\n",
       "      <td>74</td>\n",
       "      <td>73</td>\n",
       "      <td>72</td>\n",
       "      <td>71</td>\n",
       "      <td>70</td>\n",
       "      <td>69</td>\n",
       "      <td>68</td>\n",
       "      <td>67</td>\n",
       "      <td>66</td>\n",
       "      <td>...</td>\n",
       "      <td>9</td>\n",
       "      <td>8</td>\n",
       "      <td>7</td>\n",
       "      <td>6</td>\n",
       "      <td>5</td>\n",
       "      <td>4</td>\n",
       "      <td>3</td>\n",
       "      <td>2</td>\n",
       "      <td>1</td>\n",
       "      <td>0</td>\n",
       "    </tr>\n",
       "    <tr>\n",
       "      <th>emotion</th>\n",
       "      <td>Neutral</td>\n",
       "      <td>Neutral</td>\n",
       "      <td>Neutral</td>\n",
       "      <td>Happy</td>\n",
       "      <td>Happy</td>\n",
       "      <td>Happy</td>\n",
       "      <td>Neutral</td>\n",
       "      <td>Neutral</td>\n",
       "      <td>Neutral</td>\n",
       "      <td>Neutral</td>\n",
       "      <td>...</td>\n",
       "      <td>Neutral</td>\n",
       "      <td>Neutral</td>\n",
       "      <td>Neutral</td>\n",
       "      <td>Neutral</td>\n",
       "      <td>Neutral</td>\n",
       "      <td>Neutral</td>\n",
       "      <td>Neutral</td>\n",
       "      <td>Neutral</td>\n",
       "      <td>Neutral</td>\n",
       "      <td>Neutral</td>\n",
       "    </tr>\n",
       "  </tbody>\n",
       "</table>\n",
       "<p>2 rows × 76 columns</p>\n",
       "</div>"
      ],
      "text/plain": [
       "                  0        1        2      3      4      5        6        7   \\\n",
       "total_count       75       74       73     72     71     70       69       68   \n",
       "emotion      Neutral  Neutral  Neutral  Happy  Happy  Happy  Neutral  Neutral   \n",
       "\n",
       "                  8        9   ...       66       67       68       69  \\\n",
       "total_count       67       66  ...        9        8        7        6   \n",
       "emotion      Neutral  Neutral  ...  Neutral  Neutral  Neutral  Neutral   \n",
       "\n",
       "                  70       71       72       73       74       75  \n",
       "total_count        5        4        3        2        1        0  \n",
       "emotion      Neutral  Neutral  Neutral  Neutral  Neutral  Neutral  \n",
       "\n",
       "[2 rows x 76 columns]"
      ]
     },
     "execution_count": 21,
     "metadata": {},
     "output_type": "execute_result"
    }
   ],
   "source": [
    "reverse_df2.T"
   ]
  },
  {
   "cell_type": "code",
   "execution_count": null,
   "metadata": {},
   "outputs": [],
   "source": []
  },
  {
   "cell_type": "code",
   "execution_count": 22,
   "metadata": {},
   "outputs": [],
   "source": [
    "emotion_dict = {'Angry':'Negative', 'Disgust':'Negative', 'Fear':'Negative', 'Happy':'Positive', \n",
    "    'Sad':'Negative', 'Suprise':'Positive', 'Neutral':'Neutral'}"
   ]
  },
  {
   "cell_type": "code",
   "execution_count": 110,
   "metadata": {},
   "outputs": [],
   "source": [
    "pd.set_option('display.max_rows', None)\n",
    "# pd.options.display.max_rows = 60"
   ]
  },
  {
   "cell_type": "code",
   "execution_count": null,
   "metadata": {},
   "outputs": [],
   "source": [
    "total = 0\n",
    "correct = 0\n",
    "e_total = 0\n",
    "e_correct = 0\n",
    "for i in range(len(label2)):\n",
    "    file = label2['file'][i]\n",
    "    df = pd.read_csv('/Users/heemin/Documents/DHLab/mv/project/csv_crop/'+file+'.mp4.csv', index_col=0)\n",
    "    label = label2.loc[label2['file'] == file]['true'][i]\n",
    "\n",
    "    if label2['Neutral'][i] == 0:\n",
    "        l1 = df['total_count'].tolist()\n",
    "        l2 = df['emotion'].tolist()\n",
    "        df1 = pd.DataFrame([l1,l2]).T\n",
    "        a = list(range(l1[-1]+1))\n",
    "        index_df = pd.DataFrame(a)\n",
    "        df2 = pd.merge(index_df, df1, how=\"outer\")\n",
    "        df2 = df2.fillna('none')\n",
    "        l3 = []\n",
    "        split = 0\n",
    "        for i in range(len(df2)):\n",
    "            if i % 25 == 0 and i != 0 or i == len(df2): # 25 frame 마다 연산\n",
    "                emolist = df2[1][split:i].to_list()\n",
    "                emocount = Counter(emolist)\n",
    "                top3 = emocount.most_common(n=3)\n",
    "                if len(top3) == 0: # top3 감정이 없음 = 해당 1초에 감정이 인식되지 않음\n",
    "                    continue\n",
    "                    l3.append([i, 'Neutral'])\n",
    "                else:\n",
    "                    if top3[0][0] == 'none': # top1이 none일때\n",
    "                        if len(top3) == 1: # 1초 동안 none만 인식됐을때\n",
    "                            continue\n",
    "                            l3.append([i, 'Neutral']) # 중립감정으로 변경\n",
    "                        else:\n",
    "                            l3.append([i, top3[1][0]]) # none 외의 감정이 있을 경우, 그 감정으로\n",
    "                    elif top3[0][0] == 'Neutral': # top1이 중립일때\n",
    "                        if len(top3) == 1: # 1초 동안 중립만 인식됐을때\n",
    "                            l3.append([i, top3[0][0]]) # 중립으로\n",
    "                        elif top3[0][1] >= 2: # top2가 25프레임 중 3 이상일때 (25frame의 10%)\n",
    "                            if top3[1][0] == 'none': # top2가 none이면\n",
    "                                if len(top3) == 2: \n",
    "                                    continue\n",
    "                                    l3.append([i, 'Neutral']) # 중립, none, 2개만 있을 경우, 중립으로 변경\n",
    "                                else:\n",
    "                                    l3.append([i, top3[2][0]]) # 그외의 감정이 있다면 그 감정으로\n",
    "                            else:\n",
    "                                l3.append([i, top3[1][0]]) # top2가 none이 아니면 그 감정으로\n",
    "                        else: # 1초 동안 중립을 포함한 2개 이상의 감정을 인식하고, 25프레임 중 top2 감정이 3이하 일때\n",
    "                            if top3[1][0] == 'none': # top2가 none 일 경우\n",
    "                                if len(top3) == 2: # 중립과 none만 있다면 중립으로\n",
    "                                    continue\n",
    "                                    l3.append([i, 'Neutral'])\n",
    "                                else: # 그외의 감정이 있다면 그 감정으로\n",
    "                                    l3.append([i, top3[2][0]])\n",
    "                            else: # 그 외는 첫 감정으로\n",
    "                                l3.append([i, top3[0][0]])\n",
    "                    else: # top1이 none 외의 감정일때 그 감정으로 인식한다.\n",
    "                        l3.append([i, top3[0][0]])\n",
    "                split+=25\n",
    "        # pd.DataFrame(l3, columns=[['count','emotion']]).to_csv('/Users/heemin/Documents/DHLab/mv/project/dir/emotion_top3/'+j[1])\n",
    "        for scound, emotion in l3:\n",
    "            e_total+=1\n",
    "            if emotion_dict[emotion] == label:\n",
    "                e_correct += 1\n",
    "            print(file, emotion, label)\n",
    "        \n",
    "    else:\n",
    "        l1 = df['total_count'].tolist()\n",
    "        l2 = df['emotion'].tolist()\n",
    "        df1 = pd.DataFrame([l1,l2]).T\n",
    "        a = list(range(l1[-1]+1))\n",
    "        index_df = pd.DataFrame(a)\n",
    "        df2 = pd.merge(index_df, df1, how=\"outer\")\n",
    "        df2 = df2.fillna('none')\n",
    "        l3 = []\n",
    "        split = 0\n",
    "        for i in range(len(df2)):\n",
    "            if i % 25 == 0 and i != 0 or i == len(df2): # 25 frame 마다 연산\n",
    "                emolist = df2[1][split:i].to_list()\n",
    "                emocount = Counter(emolist)\n",
    "                top3 = emocount.most_common(n=3)\n",
    "                if len(top3) == 0: # top3 감정이 없음 = 해당 1초에 감정이 인식되지 않음\n",
    "                    l3.append([i, 'Neutral'])\n",
    "                else:\n",
    "                    if top3[0][0] == 'none': # top1이 none일때\n",
    "                        if len(top3) == 1: # 1초 동안 none만 인식됐을때\n",
    "                            l3.append([i, 'Neutral']) # 중립감정으로 변경\n",
    "                    elif top3[0][0] == 'Neutral': # top1이 중립일때\n",
    "                        if len(top3) == 1: # 1초 동안 중립만 인식됐을때\n",
    "                            l3.append([i, top3[0][0]]) # 중립으로\n",
    "                        elif top3[0][1] >= 2: # top2가 25프레임 중 3 이상일때 (25frame의 10%)\n",
    "                            if top3[1][0] == 'none': # top2가 none이면\n",
    "                                if len(top3) == 2: \n",
    "                                    l3.append([i, 'Neutral']) # 중립, none, 2개만 있을 경우, 중립으로 변경\n",
    "                                else:\n",
    "                                    l3.append([i, top3[2][0]]) # 그외의 감정이 있다면 그 감정으로\n",
    "                            else:\n",
    "                                l3.append([i, top3[1][0]]) # top2가 none이 아니면 그 감정으로\n",
    "                        else: # 1초 동안 중립을 포함한 2개 이상의 감정을 인식하고, 25프레임 중 top2 감정이 3이하 일때\n",
    "                            if top3[1][0] == 'none': # top2가 none 일 경우\n",
    "                                l3.append([i, 'Neutral'])\n",
    "                            else: # 그 외는 첫 감정으로\n",
    "                                l3.append([i, top3[0][0]])\n",
    "                    else: # top1이 none 외의 감정일때 그 감정으로 인식한다.\n",
    "                        l3.append([i, top3[0][0]])\n",
    "                split+=25\n",
    "        # pd.DataFrame(l3, columns=[['count','emotion']]).to_csv('/Users/heemin/Documents/DHLab/mv/project/dir/emotion_top3/'+j[1])\n",
    "        for scound, emotion in l3:\n",
    "            total+=1\n",
    "            if emotion_dict[emotion] == label:\n",
    "                correct += 1\n",
    "            print(file, emotion, label)\n",
    "acc = correct / total\n",
    "e_acc = e_correct / e_total"
   ]
  },
  {
   "cell_type": "code",
   "execution_count": 392,
   "metadata": {},
   "outputs": [
    {
     "data": {
      "text/plain": [
       "0.6993865030674846"
      ]
     },
     "execution_count": 392,
     "metadata": {},
     "output_type": "execute_result"
    }
   ],
   "source": [
    "e_acc"
   ]
  },
  {
   "cell_type": "code",
   "execution_count": 393,
   "metadata": {},
   "outputs": [
    {
     "data": {
      "text/plain": [
       "652"
      ]
     },
     "execution_count": 393,
     "metadata": {},
     "output_type": "execute_result"
    }
   ],
   "source": [
    "e_total"
   ]
  },
  {
   "cell_type": "code",
   "execution_count": 394,
   "metadata": {},
   "outputs": [
    {
     "data": {
      "text/plain": [
       "456"
      ]
     },
     "execution_count": 394,
     "metadata": {},
     "output_type": "execute_result"
    }
   ],
   "source": [
    "e_correct"
   ]
  },
  {
   "cell_type": "code",
   "execution_count": 395,
   "metadata": {},
   "outputs": [
    {
     "data": {
      "text/plain": [
       "0.359436045524036"
      ]
     },
     "execution_count": 395,
     "metadata": {},
     "output_type": "execute_result"
    }
   ],
   "source": [
    "acc"
   ]
  },
  {
   "cell_type": "code",
   "execution_count": 396,
   "metadata": {},
   "outputs": [
    {
     "data": {
      "text/plain": [
       "2116"
      ]
     },
     "execution_count": 396,
     "metadata": {},
     "output_type": "execute_result"
    }
   ],
   "source": [
    "correct"
   ]
  },
  {
   "cell_type": "code",
   "execution_count": 397,
   "metadata": {},
   "outputs": [
    {
     "data": {
      "text/plain": [
       "5887"
      ]
     },
     "execution_count": 397,
     "metadata": {},
     "output_type": "execute_result"
    }
   ],
   "source": [
    "total"
   ]
  },
  {
   "cell_type": "code",
   "execution_count": 398,
   "metadata": {},
   "outputs": [
    {
     "data": {
      "text/plain": [
       "0.359436045524036"
      ]
     },
     "execution_count": 398,
     "metadata": {},
     "output_type": "execute_result"
    }
   ],
   "source": [
    "acc"
   ]
  },
  {
   "cell_type": "code",
   "execution_count": 399,
   "metadata": {},
   "outputs": [
    {
     "data": {
      "text/plain": [
       "2116"
      ]
     },
     "execution_count": 399,
     "metadata": {},
     "output_type": "execute_result"
    }
   ],
   "source": [
    "correct"
   ]
  },
  {
   "cell_type": "code",
   "execution_count": 400,
   "metadata": {},
   "outputs": [
    {
     "data": {
      "text/plain": [
       "5887"
      ]
     },
     "execution_count": 400,
     "metadata": {},
     "output_type": "execute_result"
    }
   ],
   "source": [
    "total"
   ]
  },
  {
   "cell_type": "code",
   "execution_count": 403,
   "metadata": {},
   "outputs": [
    {
     "name": "stdout",
     "output_type": "stream",
     "text": [
      "2572\n",
      "6539\n"
     ]
    },
    {
     "data": {
      "text/plain": [
       "0.393332313809451"
      ]
     },
     "execution_count": 403,
     "metadata": {},
     "output_type": "execute_result"
    }
   ],
   "source": [
    "print(correct+e_correct)\n",
    "print(total + e_total)\n",
    "(correct+e_correct) /( total + e_total)"
   ]
  },
  {
   "cell_type": "code",
   "execution_count": null,
   "metadata": {},
   "outputs": [],
   "source": []
  }
 ],
 "metadata": {
  "kernelspec": {
   "display_name": "meta",
   "language": "python",
   "name": "python3"
  },
  "language_info": {
   "codemirror_mode": {
    "name": "ipython",
    "version": 3
   },
   "file_extension": ".py",
   "mimetype": "text/x-python",
   "name": "python",
   "nbconvert_exporter": "python",
   "pygments_lexer": "ipython3",
   "version": "3.6.8"
  },
  "orig_nbformat": 4,
  "vscode": {
   "interpreter": {
    "hash": "2665f8df3275283c8048d37fe506da9daedd0dda9bb5561c406cc2a8de356373"
   }
  }
 },
 "nbformat": 4,
 "nbformat_minor": 2
}
