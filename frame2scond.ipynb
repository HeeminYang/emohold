{
 "cells": [
  {
   "cell_type": "code",
   "execution_count": 2,
   "metadata": {},
   "outputs": [],
   "source": [
    "import pandas as pd\n",
    "import numpy as np"
   ]
  },
  {
   "cell_type": "code",
   "execution_count": 115,
   "metadata": {},
   "outputs": [
    {
     "data": {
      "text/html": [
       "<div>\n",
       "<style scoped>\n",
       "    .dataframe tbody tr th:only-of-type {\n",
       "        vertical-align: middle;\n",
       "    }\n",
       "\n",
       "    .dataframe tbody tr th {\n",
       "        vertical-align: top;\n",
       "    }\n",
       "\n",
       "    .dataframe thead th {\n",
       "        text-align: right;\n",
       "    }\n",
       "</style>\n",
       "<table border=\"1\" class=\"dataframe\">\n",
       "  <thead>\n",
       "    <tr style=\"text-align: right;\">\n",
       "      <th></th>\n",
       "      <th>file</th>\n",
       "      <th>label_JH</th>\n",
       "      <th>label_HM</th>\n",
       "      <th>label_YG</th>\n",
       "    </tr>\n",
       "  </thead>\n",
       "  <tbody>\n",
       "    <tr>\n",
       "      <th>0</th>\n",
       "      <td>HJY_0</td>\n",
       "      <td>angry</td>\n",
       "      <td>Negative</td>\n",
       "      <td>Angry</td>\n",
       "    </tr>\n",
       "    <tr>\n",
       "      <th>1</th>\n",
       "      <td>HJY_1</td>\n",
       "      <td>angry</td>\n",
       "      <td>Negative</td>\n",
       "      <td>Angry</td>\n",
       "    </tr>\n",
       "    <tr>\n",
       "      <th>2</th>\n",
       "      <td>HJY_2</td>\n",
       "      <td>angry</td>\n",
       "      <td>Negative</td>\n",
       "      <td>Angry</td>\n",
       "    </tr>\n",
       "    <tr>\n",
       "      <th>3</th>\n",
       "      <td>HJY_3</td>\n",
       "      <td>neutral</td>\n",
       "      <td>Neutral</td>\n",
       "      <td>Neutral</td>\n",
       "    </tr>\n",
       "    <tr>\n",
       "      <th>4</th>\n",
       "      <td>HJY_4</td>\n",
       "      <td>neutral</td>\n",
       "      <td>Neutral</td>\n",
       "      <td>Neutral</td>\n",
       "    </tr>\n",
       "  </tbody>\n",
       "</table>\n",
       "</div>"
      ],
      "text/plain": [
       "    file label_JH  label_HM label_YG\n",
       "0  HJY_0    angry  Negative    Angry\n",
       "1  HJY_1    angry  Negative    Angry\n",
       "2  HJY_2    angry  Negative    Angry\n",
       "3  HJY_3  neutral   Neutral  Neutral\n",
       "4  HJY_4  neutral   Neutral  Neutral"
      ]
     },
     "execution_count": 115,
     "metadata": {},
     "output_type": "execute_result"
    }
   ],
   "source": [
    "df = pd.read_excel('/Users/heemin/Documents/DHLab/mv/project/label.xlsx')\n",
    "df.head()"
   ]
  },
  {
   "cell_type": "code",
   "execution_count": 116,
   "metadata": {},
   "outputs": [],
   "source": [
    "df['label1'] = df['label_JH']\n",
    "df['label2'] = df['label_HM']\n",
    "df['label3'] = df['label_YG']"
   ]
  },
  {
   "cell_type": "code",
   "execution_count": 117,
   "metadata": {},
   "outputs": [
    {
     "data": {
      "text/plain": [
       "array(['angry', 'neutral', 'happy', 'surprise', nan], dtype=object)"
      ]
     },
     "execution_count": 117,
     "metadata": {},
     "output_type": "execute_result"
    }
   ],
   "source": [
    "df['label_JH'].unique()"
   ]
  },
  {
   "cell_type": "code",
   "execution_count": 118,
   "metadata": {},
   "outputs": [
    {
     "data": {
      "text/plain": [
       "array(['Angry', 'Neutral', 'Happy', 'Surprise'], dtype=object)"
      ]
     },
     "execution_count": 118,
     "metadata": {},
     "output_type": "execute_result"
    }
   ],
   "source": [
    "df['label_YG'].unique()"
   ]
  },
  {
   "cell_type": "code",
   "execution_count": 119,
   "metadata": {},
   "outputs": [
    {
     "data": {
      "text/plain": [
       "array(['Negative', 'Neutral', 'Positive', nan], dtype=object)"
      ]
     },
     "execution_count": 119,
     "metadata": {},
     "output_type": "execute_result"
    }
   ],
   "source": [
    "df['label_HM'].unique()"
   ]
  },
  {
   "cell_type": "code",
   "execution_count": 120,
   "metadata": {},
   "outputs": [],
   "source": [
    "df.loc[df['label_JH']=='angry', 'label1'] = 'Negative'\n",
    "df.loc[df['label_JH']=='surprise', 'label1'] = 'Positive'\n",
    "df.loc[df['label_JH']=='happy', 'label1'] = 'Positive'\n",
    "df.loc[df['label_JH']=='neutral', 'label1'] = 'Neutral'\n",
    "\n",
    "df.loc[df['label_YG']=='Angry', 'label3'] = 'Negative'\n",
    "df.loc[df['label_YG']=='Surprise', 'label3'] = 'Positive'\n",
    "df.loc[df['label_YG']=='Happy', 'label3'] = 'Positive'"
   ]
  },
  {
   "cell_type": "code",
   "execution_count": 121,
   "metadata": {},
   "outputs": [
    {
     "data": {
      "text/plain": [
       "file        0\n",
       "label1      4\n",
       "label2    113\n",
       "label3      0\n",
       "dtype: int64"
      ]
     },
     "execution_count": 121,
     "metadata": {},
     "output_type": "execute_result"
    }
   ],
   "source": [
    "df2 = df[['file','label1','label2', 'label3']]\n",
    "df2.isna().sum()"
   ]
  },
  {
   "cell_type": "code",
   "execution_count": 122,
   "metadata": {},
   "outputs": [
    {
     "name": "stderr",
     "output_type": "stream",
     "text": [
      "/var/folders/sc/sg8zc8mj6630dt6_wh5ffjvr0000gn/T/ipykernel_31548/2715575546.py:2: SettingWithCopyWarning: \n",
      "A value is trying to be set on a copy of a slice from a DataFrame.\n",
      "Try using .loc[row_indexer,col_indexer] = value instead\n",
      "\n",
      "See the caveats in the documentation: https://pandas.pydata.org/pandas-docs/stable/user_guide/indexing.html#returning-a-view-versus-a-copy\n",
      "  df2_dropna['true'] = df2_dropna.mode(axis=1)\n"
     ]
    }
   ],
   "source": [
    "df2_dropna=df2.dropna()\n",
    "df2_dropna['true'] = df2_dropna.mode(axis=1)"
   ]
  },
  {
   "cell_type": "code",
   "execution_count": 123,
   "metadata": {},
   "outputs": [
    {
     "data": {
      "text/html": [
       "<div>\n",
       "<style scoped>\n",
       "    .dataframe tbody tr th:only-of-type {\n",
       "        vertical-align: middle;\n",
       "    }\n",
       "\n",
       "    .dataframe tbody tr th {\n",
       "        vertical-align: top;\n",
       "    }\n",
       "\n",
       "    .dataframe thead th {\n",
       "        text-align: right;\n",
       "    }\n",
       "</style>\n",
       "<table border=\"1\" class=\"dataframe\">\n",
       "  <thead>\n",
       "    <tr style=\"text-align: right;\">\n",
       "      <th></th>\n",
       "      <th>file</th>\n",
       "      <th>label1</th>\n",
       "      <th>label2</th>\n",
       "      <th>label3</th>\n",
       "      <th>true</th>\n",
       "    </tr>\n",
       "  </thead>\n",
       "  <tbody>\n",
       "    <tr>\n",
       "      <th>0</th>\n",
       "      <td>HJY_0</td>\n",
       "      <td>Negative</td>\n",
       "      <td>Negative</td>\n",
       "      <td>Negative</td>\n",
       "      <td>Negative</td>\n",
       "    </tr>\n",
       "    <tr>\n",
       "      <th>1</th>\n",
       "      <td>HJY_1</td>\n",
       "      <td>Negative</td>\n",
       "      <td>Negative</td>\n",
       "      <td>Negative</td>\n",
       "      <td>Negative</td>\n",
       "    </tr>\n",
       "    <tr>\n",
       "      <th>2</th>\n",
       "      <td>HJY_2</td>\n",
       "      <td>Negative</td>\n",
       "      <td>Negative</td>\n",
       "      <td>Negative</td>\n",
       "      <td>Negative</td>\n",
       "    </tr>\n",
       "    <tr>\n",
       "      <th>3</th>\n",
       "      <td>HJY_3</td>\n",
       "      <td>Neutral</td>\n",
       "      <td>Neutral</td>\n",
       "      <td>Neutral</td>\n",
       "      <td>Neutral</td>\n",
       "    </tr>\n",
       "    <tr>\n",
       "      <th>4</th>\n",
       "      <td>HJY_4</td>\n",
       "      <td>Neutral</td>\n",
       "      <td>Neutral</td>\n",
       "      <td>Neutral</td>\n",
       "      <td>Neutral</td>\n",
       "    </tr>\n",
       "    <tr>\n",
       "      <th>...</th>\n",
       "      <td>...</td>\n",
       "      <td>...</td>\n",
       "      <td>...</td>\n",
       "      <td>...</td>\n",
       "      <td>...</td>\n",
       "    </tr>\n",
       "    <tr>\n",
       "      <th>627</th>\n",
       "      <td>LTW_80</td>\n",
       "      <td>Neutral</td>\n",
       "      <td>Neutral</td>\n",
       "      <td>Neutral</td>\n",
       "      <td>Neutral</td>\n",
       "    </tr>\n",
       "    <tr>\n",
       "      <th>628</th>\n",
       "      <td>LTW_81</td>\n",
       "      <td>Neutral</td>\n",
       "      <td>Neutral</td>\n",
       "      <td>Neutral</td>\n",
       "      <td>Neutral</td>\n",
       "    </tr>\n",
       "    <tr>\n",
       "      <th>629</th>\n",
       "      <td>LTW_82</td>\n",
       "      <td>Neutral</td>\n",
       "      <td>Neutral</td>\n",
       "      <td>Neutral</td>\n",
       "      <td>Neutral</td>\n",
       "    </tr>\n",
       "    <tr>\n",
       "      <th>630</th>\n",
       "      <td>LTW_83</td>\n",
       "      <td>Neutral</td>\n",
       "      <td>Neutral</td>\n",
       "      <td>Neutral</td>\n",
       "      <td>Neutral</td>\n",
       "    </tr>\n",
       "    <tr>\n",
       "      <th>631</th>\n",
       "      <td>LTW_84</td>\n",
       "      <td>Neutral</td>\n",
       "      <td>Neutral</td>\n",
       "      <td>Neutral</td>\n",
       "      <td>Neutral</td>\n",
       "    </tr>\n",
       "  </tbody>\n",
       "</table>\n",
       "<p>516 rows × 5 columns</p>\n",
       "</div>"
      ],
      "text/plain": [
       "       file    label1    label2    label3      true\n",
       "0     HJY_0  Negative  Negative  Negative  Negative\n",
       "1     HJY_1  Negative  Negative  Negative  Negative\n",
       "2     HJY_2  Negative  Negative  Negative  Negative\n",
       "3     HJY_3   Neutral   Neutral   Neutral   Neutral\n",
       "4     HJY_4   Neutral   Neutral   Neutral   Neutral\n",
       "..      ...       ...       ...       ...       ...\n",
       "627  LTW_80   Neutral   Neutral   Neutral   Neutral\n",
       "628  LTW_81   Neutral   Neutral   Neutral   Neutral\n",
       "629  LTW_82   Neutral   Neutral   Neutral   Neutral\n",
       "630  LTW_83   Neutral   Neutral   Neutral   Neutral\n",
       "631  LTW_84   Neutral   Neutral   Neutral   Neutral\n",
       "\n",
       "[516 rows x 5 columns]"
      ]
     },
     "execution_count": 123,
     "metadata": {},
     "output_type": "execute_result"
    }
   ],
   "source": [
    "df2_dropna"
   ]
  },
  {
   "cell_type": "code",
   "execution_count": 124,
   "metadata": {},
   "outputs": [],
   "source": [
    "df2_dropna.to_excel('/Users/heemin/Documents/DHLab/mv/project/label_true.xlsx')"
   ]
  },
  {
   "attachments": {},
   "cell_type": "markdown",
   "metadata": {},
   "source": [
    "## data crop"
   ]
  },
  {
   "cell_type": "code",
   "execution_count": 5,
   "metadata": {},
   "outputs": [],
   "source": [
    "import os\n",
    "import natsort\n",
    "\n",
    "from collections import Counter"
   ]
  },
  {
   "cell_type": "code",
   "execution_count": 265,
   "metadata": {},
   "outputs": [],
   "source": [
    "fl = os.listdir('/Users/heemin/Documents/DHLab/mv/project/csv')"
   ]
  },
  {
   "cell_type": "code",
   "execution_count": 266,
   "metadata": {},
   "outputs": [],
   "source": [
    "file_list = natsort.natsorted(fl)"
   ]
  },
  {
   "cell_type": "code",
   "execution_count": 272,
   "metadata": {},
   "outputs": [],
   "source": [
    "drop_file =[]\n",
    "for file in file_list:\n",
    "    df1 = pd.read_csv('/Users/heemin/Documents/DHLab/mv/project/csv/'+file)[['total_count', 'emotion']]\n",
    "    if len(df1) == 0:\n",
    "        drop_file.append(file)"
   ]
  },
  {
   "cell_type": "code",
   "execution_count": 359,
   "metadata": {},
   "outputs": [],
   "source": [
    "true_label = pd.read_excel('/Users/heemin/Documents/DHLab/mv/project/label_true.xlsx')\n",
    "drop_filename = []\n",
    "for file in drop_file:\n",
    "    drop_filename.append(file.split('.')[0])\n",
    "drop_df = pd.DataFrame(drop_filename, columns=['file'])\n",
    "drop_df['bad'] = 1\n",
    "label1 = pd.merge(true_label, drop_df, how='left', on='file')\n",
    "label2 = label1[label1['bad'].isnull()].iloc[:,1:-1]"
   ]
  },
  {
   "cell_type": "code",
   "execution_count": 360,
   "metadata": {},
   "outputs": [],
   "source": [
    "label2['Neutral'] = 0\n",
    "label2.loc[label2['true'] == 'Neutral', 'Neutral'] = 1\n",
    "label2 = label2.reset_index()"
   ]
  },
  {
   "cell_type": "code",
   "execution_count": 98,
   "metadata": {},
   "outputs": [
    {
     "name": "stdout",
     "output_type": "stream",
     "text": [
      "HJY_0 0 50\n",
      "HJY_1 0 50\n",
      "HJY_2 0 150\n",
      "HJY_5 25 225\n",
      "HJY_6 0 100\n",
      "HJY_7 0 225\n",
      "HJY_11 0 50\n",
      "HJY_22 0 250\n",
      "HJY_23 0 125\n",
      "HJY_24 0 50\n",
      "HJY_25 25 250\n",
      "HJY_27 0 100\n",
      "HJY_28 0 500\n",
      "HJY_29 0 250\n",
      "HJY_30 0 150\n",
      "HJY_40 0 725\n",
      "HJY_41 0 50\n",
      "HJY_42 0 100\n",
      "HJY_58 0 550\n",
      "HJY_64 0 100\n",
      "KSY_21 0 25\n",
      "KSY_22 0 50\n",
      "KSY_23 0 50\n",
      "KSY_24 0 50\n",
      "KSY_25 0 50\n",
      "KSY_26 0 50\n",
      "KSY_27 0 150\n",
      "KSY_28 0 150\n",
      "KSY_29 0 50\n",
      "KSY_45 0 225\n",
      "KSY_46 0 150\n",
      "KSY_47 25 125\n",
      "KSY_48 0 75\n",
      "KSY_49 0 100\n",
      "KSY_50 0 275\n",
      "KSY_51 0 125\n",
      "KSY_52 0 275\n",
      "KSY_53 0 425\n",
      "KSY_54 0 200\n",
      "KSY_55 0 225\n",
      "KSY_56 0 225\n",
      "KSY_57 25 325\n"
     ]
    }
   ],
   "source": [
    "for idx in range(len(label2)):\n",
    "    file = label2['file'][idx]\n",
    "    df1 = pd.read_csv('/Users/heemin/Documents/DHLab/mv/project/csv/'+file+'.mp4.csv')[['total_count', 'emotion']]\n",
    "    end_frame = int(df1['total_count'][-1:])\n",
    "    df2 = pd.merge(pd.DataFrame([i for i in range(1, end_frame+1)], columns=['total_count']), df1, how='outer').fillna('Neutral')\n",
    "    if label2['Neutral'][idx] == 0:\n",
    "        split = 0\n",
    "        frame2scound = []\n",
    "        crop_frame_start = 0\n",
    "        for i in range(1, end_frame+1):\n",
    "            if i % 25 == 0 or i == end_frame+1:\n",
    "                emolist = df2['emotion'][split:i].to_list()\n",
    "                emocount = Counter(emolist)\n",
    "                top3 = emocount.most_common(n=3)\n",
    "                if len(top3) == 0: # top3 감정이 없음 = 해당 1초에 감정이 인식되지 않음\n",
    "                    crop_frame_start = i\n",
    "                elif len(top3) == 1:\n",
    "                    if top3[0][0] == 'Neutral':\n",
    "                        crop_frame_start = i\n",
    "                    else:\n",
    "                        continue\n",
    "                else:\n",
    "                    continue\n",
    "                split += 25\n",
    "\n",
    "        if end_frame%25 >0:\n",
    "            r_end_frame = end_frame//25*25+25\n",
    "        else:\n",
    "            r_end_frame = end_frame//25*25\n",
    "        crop_frame_end = r_end_frame\n",
    "        reverse_df2 = pd.merge(pd.DataFrame([i for i in range(r_end_frame, -1, -1)], columns=['total_count']), df1, how='outer').fillna('Neutral')\n",
    "        split = 0\n",
    "        for i in range(1, end_frame+1):\n",
    "            if i % 25 == 0 or i == end_frame+1:\n",
    "                emolist = reverse_df2['emotion'][split:i].to_list()\n",
    "                emocount = Counter(emolist)\n",
    "                top3 = emocount.most_common(n=3)\n",
    "                if len(top3) == 0: # top3 감정이 없음 = 해당 1초에 감정이 인식되지 않음\n",
    "                    crop_frame_end = r_end_frame - i\n",
    "                elif len(top3) == 1:\n",
    "                    if top3[0][0] == 'Neutral':\n",
    "                        crop_frame_end = r_end_frame - i\n",
    "                    else:\n",
    "                        continue\n",
    "                else:\n",
    "                    continue\n",
    "                split += 25\n",
    "        if crop_frame_start == crop_frame_end:\n",
    "            crop_frame_start = 0\n",
    "            crop_frame_end = r_end_frame\n",
    "        df3 = df2[crop_frame_start:crop_frame_end]\n",
    "        print(file, crop_frame_start, crop_frame_end)\n",
    "        if 'KSY_57' in file:\n",
    "            break\n",
    "    else:\n",
    "        df3 = df2\n",
    "    df3.to_csv('/Users/heemin/Documents/DHLab/mv/project/csv_crop/'+file+'.mp4.csv')\n"
   ]
  },
  {
   "cell_type": "code",
   "execution_count": null,
   "metadata": {},
   "outputs": [],
   "source": [
    "df2[0:50]"
   ]
  },
  {
   "cell_type": "code",
   "execution_count": 103,
   "metadata": {},
   "outputs": [
    {
     "data": {
      "text/html": [
       "<div>\n",
       "<style scoped>\n",
       "    .dataframe tbody tr th:only-of-type {\n",
       "        vertical-align: middle;\n",
       "    }\n",
       "\n",
       "    .dataframe tbody tr th {\n",
       "        vertical-align: top;\n",
       "    }\n",
       "\n",
       "    .dataframe thead th {\n",
       "        text-align: right;\n",
       "    }\n",
       "</style>\n",
       "<table border=\"1\" class=\"dataframe\">\n",
       "  <thead>\n",
       "    <tr style=\"text-align: right;\">\n",
       "      <th></th>\n",
       "      <th>total_count</th>\n",
       "      <th>emotion</th>\n",
       "    </tr>\n",
       "  </thead>\n",
       "  <tbody>\n",
       "    <tr>\n",
       "      <th>25</th>\n",
       "      <td>26</td>\n",
       "      <td>Neutral</td>\n",
       "    </tr>\n",
       "    <tr>\n",
       "      <th>26</th>\n",
       "      <td>27</td>\n",
       "      <td>Neutral</td>\n",
       "    </tr>\n",
       "    <tr>\n",
       "      <th>27</th>\n",
       "      <td>28</td>\n",
       "      <td>Neutral</td>\n",
       "    </tr>\n",
       "    <tr>\n",
       "      <th>28</th>\n",
       "      <td>29</td>\n",
       "      <td>Happy</td>\n",
       "    </tr>\n",
       "    <tr>\n",
       "      <th>29</th>\n",
       "      <td>30</td>\n",
       "      <td>Happy</td>\n",
       "    </tr>\n",
       "    <tr>\n",
       "      <th>30</th>\n",
       "      <td>31</td>\n",
       "      <td>Neutral</td>\n",
       "    </tr>\n",
       "    <tr>\n",
       "      <th>31</th>\n",
       "      <td>32</td>\n",
       "      <td>Neutral</td>\n",
       "    </tr>\n",
       "    <tr>\n",
       "      <th>32</th>\n",
       "      <td>33</td>\n",
       "      <td>Neutral</td>\n",
       "    </tr>\n",
       "    <tr>\n",
       "      <th>33</th>\n",
       "      <td>34</td>\n",
       "      <td>Neutral</td>\n",
       "    </tr>\n",
       "    <tr>\n",
       "      <th>34</th>\n",
       "      <td>35</td>\n",
       "      <td>Neutral</td>\n",
       "    </tr>\n",
       "    <tr>\n",
       "      <th>35</th>\n",
       "      <td>36</td>\n",
       "      <td>Neutral</td>\n",
       "    </tr>\n",
       "    <tr>\n",
       "      <th>36</th>\n",
       "      <td>37</td>\n",
       "      <td>Neutral</td>\n",
       "    </tr>\n",
       "    <tr>\n",
       "      <th>37</th>\n",
       "      <td>38</td>\n",
       "      <td>Neutral</td>\n",
       "    </tr>\n",
       "    <tr>\n",
       "      <th>38</th>\n",
       "      <td>39</td>\n",
       "      <td>Neutral</td>\n",
       "    </tr>\n",
       "    <tr>\n",
       "      <th>39</th>\n",
       "      <td>40</td>\n",
       "      <td>Neutral</td>\n",
       "    </tr>\n",
       "    <tr>\n",
       "      <th>40</th>\n",
       "      <td>41</td>\n",
       "      <td>Neutral</td>\n",
       "    </tr>\n",
       "    <tr>\n",
       "      <th>41</th>\n",
       "      <td>42</td>\n",
       "      <td>Neutral</td>\n",
       "    </tr>\n",
       "    <tr>\n",
       "      <th>42</th>\n",
       "      <td>43</td>\n",
       "      <td>Neutral</td>\n",
       "    </tr>\n",
       "    <tr>\n",
       "      <th>43</th>\n",
       "      <td>44</td>\n",
       "      <td>Neutral</td>\n",
       "    </tr>\n",
       "    <tr>\n",
       "      <th>44</th>\n",
       "      <td>45</td>\n",
       "      <td>Neutral</td>\n",
       "    </tr>\n",
       "    <tr>\n",
       "      <th>45</th>\n",
       "      <td>46</td>\n",
       "      <td>Neutral</td>\n",
       "    </tr>\n",
       "    <tr>\n",
       "      <th>46</th>\n",
       "      <td>47</td>\n",
       "      <td>Neutral</td>\n",
       "    </tr>\n",
       "    <tr>\n",
       "      <th>47</th>\n",
       "      <td>48</td>\n",
       "      <td>Neutral</td>\n",
       "    </tr>\n",
       "    <tr>\n",
       "      <th>48</th>\n",
       "      <td>49</td>\n",
       "      <td>Neutral</td>\n",
       "    </tr>\n",
       "    <tr>\n",
       "      <th>49</th>\n",
       "      <td>50</td>\n",
       "      <td>Neutral</td>\n",
       "    </tr>\n",
       "    <tr>\n",
       "      <th>50</th>\n",
       "      <td>51</td>\n",
       "      <td>Neutral</td>\n",
       "    </tr>\n",
       "    <tr>\n",
       "      <th>51</th>\n",
       "      <td>52</td>\n",
       "      <td>Neutral</td>\n",
       "    </tr>\n",
       "    <tr>\n",
       "      <th>52</th>\n",
       "      <td>53</td>\n",
       "      <td>Neutral</td>\n",
       "    </tr>\n",
       "    <tr>\n",
       "      <th>53</th>\n",
       "      <td>54</td>\n",
       "      <td>Neutral</td>\n",
       "    </tr>\n",
       "    <tr>\n",
       "      <th>54</th>\n",
       "      <td>55</td>\n",
       "      <td>Neutral</td>\n",
       "    </tr>\n",
       "    <tr>\n",
       "      <th>55</th>\n",
       "      <td>56</td>\n",
       "      <td>Neutral</td>\n",
       "    </tr>\n",
       "    <tr>\n",
       "      <th>56</th>\n",
       "      <td>57</td>\n",
       "      <td>Neutral</td>\n",
       "    </tr>\n",
       "    <tr>\n",
       "      <th>57</th>\n",
       "      <td>58</td>\n",
       "      <td>Neutral</td>\n",
       "    </tr>\n",
       "    <tr>\n",
       "      <th>58</th>\n",
       "      <td>59</td>\n",
       "      <td>Neutral</td>\n",
       "    </tr>\n",
       "    <tr>\n",
       "      <th>59</th>\n",
       "      <td>60</td>\n",
       "      <td>Neutral</td>\n",
       "    </tr>\n",
       "    <tr>\n",
       "      <th>60</th>\n",
       "      <td>61</td>\n",
       "      <td>Neutral</td>\n",
       "    </tr>\n",
       "    <tr>\n",
       "      <th>61</th>\n",
       "      <td>62</td>\n",
       "      <td>Neutral</td>\n",
       "    </tr>\n",
       "    <tr>\n",
       "      <th>62</th>\n",
       "      <td>63</td>\n",
       "      <td>Neutral</td>\n",
       "    </tr>\n",
       "    <tr>\n",
       "      <th>63</th>\n",
       "      <td>64</td>\n",
       "      <td>Neutral</td>\n",
       "    </tr>\n",
       "    <tr>\n",
       "      <th>64</th>\n",
       "      <td>65</td>\n",
       "      <td>Neutral</td>\n",
       "    </tr>\n",
       "    <tr>\n",
       "      <th>65</th>\n",
       "      <td>66</td>\n",
       "      <td>Happy</td>\n",
       "    </tr>\n",
       "    <tr>\n",
       "      <th>66</th>\n",
       "      <td>67</td>\n",
       "      <td>Happy</td>\n",
       "    </tr>\n",
       "    <tr>\n",
       "      <th>67</th>\n",
       "      <td>68</td>\n",
       "      <td>Happy</td>\n",
       "    </tr>\n",
       "    <tr>\n",
       "      <th>68</th>\n",
       "      <td>69</td>\n",
       "      <td>Happy</td>\n",
       "    </tr>\n",
       "    <tr>\n",
       "      <th>69</th>\n",
       "      <td>70</td>\n",
       "      <td>Happy</td>\n",
       "    </tr>\n",
       "    <tr>\n",
       "      <th>70</th>\n",
       "      <td>71</td>\n",
       "      <td>Happy</td>\n",
       "    </tr>\n",
       "    <tr>\n",
       "      <th>71</th>\n",
       "      <td>72</td>\n",
       "      <td>Happy</td>\n",
       "    </tr>\n",
       "    <tr>\n",
       "      <th>72</th>\n",
       "      <td>73</td>\n",
       "      <td>Happy</td>\n",
       "    </tr>\n",
       "    <tr>\n",
       "      <th>73</th>\n",
       "      <td>74</td>\n",
       "      <td>Happy</td>\n",
       "    </tr>\n",
       "    <tr>\n",
       "      <th>74</th>\n",
       "      <td>75</td>\n",
       "      <td>Happy</td>\n",
       "    </tr>\n",
       "  </tbody>\n",
       "</table>\n",
       "</div>"
      ],
      "text/plain": [
       "    total_count  emotion\n",
       "25           26  Neutral\n",
       "26           27  Neutral\n",
       "27           28  Neutral\n",
       "28           29    Happy\n",
       "29           30    Happy\n",
       "30           31  Neutral\n",
       "31           32  Neutral\n",
       "32           33  Neutral\n",
       "33           34  Neutral\n",
       "34           35  Neutral\n",
       "35           36  Neutral\n",
       "36           37  Neutral\n",
       "37           38  Neutral\n",
       "38           39  Neutral\n",
       "39           40  Neutral\n",
       "40           41  Neutral\n",
       "41           42  Neutral\n",
       "42           43  Neutral\n",
       "43           44  Neutral\n",
       "44           45  Neutral\n",
       "45           46  Neutral\n",
       "46           47  Neutral\n",
       "47           48  Neutral\n",
       "48           49  Neutral\n",
       "49           50  Neutral\n",
       "50           51  Neutral\n",
       "51           52  Neutral\n",
       "52           53  Neutral\n",
       "53           54  Neutral\n",
       "54           55  Neutral\n",
       "55           56  Neutral\n",
       "56           57  Neutral\n",
       "57           58  Neutral\n",
       "58           59  Neutral\n",
       "59           60  Neutral\n",
       "60           61  Neutral\n",
       "61           62  Neutral\n",
       "62           63  Neutral\n",
       "63           64  Neutral\n",
       "64           65  Neutral\n",
       "65           66    Happy\n",
       "66           67    Happy\n",
       "67           68    Happy\n",
       "68           69    Happy\n",
       "69           70    Happy\n",
       "70           71    Happy\n",
       "71           72    Happy\n",
       "72           73    Happy\n",
       "73           74    Happy\n",
       "74           75    Happy"
      ]
     },
     "execution_count": 103,
     "metadata": {},
     "output_type": "execute_result"
    }
   ],
   "source": [
    "df3[0:50]"
   ]
  },
  {
   "cell_type": "code",
   "execution_count": 282,
   "metadata": {},
   "outputs": [
    {
     "data": {
      "text/html": [
       "<div>\n",
       "<style scoped>\n",
       "    .dataframe tbody tr th:only-of-type {\n",
       "        vertical-align: middle;\n",
       "    }\n",
       "\n",
       "    .dataframe tbody tr th {\n",
       "        vertical-align: top;\n",
       "    }\n",
       "\n",
       "    .dataframe thead th {\n",
       "        text-align: right;\n",
       "    }\n",
       "</style>\n",
       "<table border=\"1\" class=\"dataframe\">\n",
       "  <thead>\n",
       "    <tr style=\"text-align: right;\">\n",
       "      <th></th>\n",
       "      <th>0</th>\n",
       "      <th>1</th>\n",
       "      <th>2</th>\n",
       "      <th>3</th>\n",
       "      <th>4</th>\n",
       "      <th>5</th>\n",
       "      <th>6</th>\n",
       "      <th>7</th>\n",
       "      <th>8</th>\n",
       "      <th>9</th>\n",
       "      <th>...</th>\n",
       "      <th>66</th>\n",
       "      <th>67</th>\n",
       "      <th>68</th>\n",
       "      <th>69</th>\n",
       "      <th>70</th>\n",
       "      <th>71</th>\n",
       "      <th>72</th>\n",
       "      <th>73</th>\n",
       "      <th>74</th>\n",
       "      <th>75</th>\n",
       "    </tr>\n",
       "  </thead>\n",
       "  <tbody>\n",
       "    <tr>\n",
       "      <th>total_count</th>\n",
       "      <td>75</td>\n",
       "      <td>74</td>\n",
       "      <td>73</td>\n",
       "      <td>72</td>\n",
       "      <td>71</td>\n",
       "      <td>70</td>\n",
       "      <td>69</td>\n",
       "      <td>68</td>\n",
       "      <td>67</td>\n",
       "      <td>66</td>\n",
       "      <td>...</td>\n",
       "      <td>9</td>\n",
       "      <td>8</td>\n",
       "      <td>7</td>\n",
       "      <td>6</td>\n",
       "      <td>5</td>\n",
       "      <td>4</td>\n",
       "      <td>3</td>\n",
       "      <td>2</td>\n",
       "      <td>1</td>\n",
       "      <td>0</td>\n",
       "    </tr>\n",
       "    <tr>\n",
       "      <th>emotion</th>\n",
       "      <td>Neutral</td>\n",
       "      <td>Neutral</td>\n",
       "      <td>Neutral</td>\n",
       "      <td>Happy</td>\n",
       "      <td>Happy</td>\n",
       "      <td>Happy</td>\n",
       "      <td>Neutral</td>\n",
       "      <td>Neutral</td>\n",
       "      <td>Neutral</td>\n",
       "      <td>Neutral</td>\n",
       "      <td>...</td>\n",
       "      <td>Neutral</td>\n",
       "      <td>Neutral</td>\n",
       "      <td>Neutral</td>\n",
       "      <td>Neutral</td>\n",
       "      <td>Neutral</td>\n",
       "      <td>Neutral</td>\n",
       "      <td>Neutral</td>\n",
       "      <td>Neutral</td>\n",
       "      <td>Neutral</td>\n",
       "      <td>Neutral</td>\n",
       "    </tr>\n",
       "  </tbody>\n",
       "</table>\n",
       "<p>2 rows × 76 columns</p>\n",
       "</div>"
      ],
      "text/plain": [
       "                  0        1        2      3      4      5        6        7   \\\n",
       "total_count       75       74       73     72     71     70       69       68   \n",
       "emotion      Neutral  Neutral  Neutral  Happy  Happy  Happy  Neutral  Neutral   \n",
       "\n",
       "                  8        9   ...       66       67       68       69  \\\n",
       "total_count       67       66  ...        9        8        7        6   \n",
       "emotion      Neutral  Neutral  ...  Neutral  Neutral  Neutral  Neutral   \n",
       "\n",
       "                  70       71       72       73       74       75  \n",
       "total_count        5        4        3        2        1        0  \n",
       "emotion      Neutral  Neutral  Neutral  Neutral  Neutral  Neutral  \n",
       "\n",
       "[2 rows x 76 columns]"
      ]
     },
     "execution_count": 282,
     "metadata": {},
     "output_type": "execute_result"
    }
   ],
   "source": [
    "reverse_df2.T"
   ]
  },
  {
   "cell_type": "code",
   "execution_count": 8,
   "metadata": {},
   "outputs": [],
   "source": [
    "emotion_dict = {'Angry':'Negative', 'Disgust':'Negative', 'Fear':'Negative', 'Happy':'Positive', \n",
    "    'Sad':'Negative', 'Suprise':'Positive', 'Neutral':'Neutral'}"
   ]
  },
  {
   "cell_type": "code",
   "execution_count": 327,
   "metadata": {},
   "outputs": [],
   "source": [
    "# pd.set_option('display.max_rows', None)\n",
    "# pd.options.display.max_rows = 60"
   ]
  },
  {
   "cell_type": "code",
   "execution_count": 363,
   "metadata": {},
   "outputs": [
    {
     "data": {
      "text/plain": [
       "434"
      ]
     },
     "execution_count": 363,
     "metadata": {},
     "output_type": "execute_result"
    }
   ],
   "source": [
    "len(label2)"
   ]
  },
  {
   "cell_type": "code",
   "execution_count": 404,
   "metadata": {},
   "outputs": [],
   "source": [
    "import torch"
   ]
  },
  {
   "cell_type": "code",
   "execution_count": 405,
   "metadata": {},
   "outputs": [],
   "source": [
    "w = torch.empty(3, 5)"
   ]
  },
  {
   "cell_type": "code",
   "execution_count": 406,
   "metadata": {},
   "outputs": [
    {
     "data": {
      "text/plain": [
       "tensor([[0.0000e+00, 0.0000e+00, 2.8014e+25, 1.4013e-45, 1.2612e-44],\n",
       "        [0.0000e+00, 0.0000e+00, 0.0000e+00, 0.0000e+00, 3.6013e-43],\n",
       "        [1.8754e+28, 4.0611e-08, 1.0632e-05, 1.2812e-11, 8.5018e-07]])"
      ]
     },
     "execution_count": 406,
     "metadata": {},
     "output_type": "execute_result"
    }
   ],
   "source": [
    "w"
   ]
  },
  {
   "cell_type": "code",
   "execution_count": 424,
   "metadata": {},
   "outputs": [],
   "source": [
    "k = torch.tensor(20)"
   ]
  },
  {
   "cell_type": "code",
   "execution_count": 425,
   "metadata": {},
   "outputs": [
    {
     "data": {
      "text/plain": [
       "tensor(20)"
      ]
     },
     "execution_count": 425,
     "metadata": {},
     "output_type": "execute_result"
    }
   ],
   "source": [
    "k"
   ]
  },
  {
   "cell_type": "code",
   "execution_count": 427,
   "metadata": {},
   "outputs": [
    {
     "data": {
      "text/plain": [
       "tensor(0)"
      ]
     },
     "execution_count": 427,
     "metadata": {},
     "output_type": "execute_result"
    }
   ],
   "source": [
    "j = torch.nn.init.zeros_(k)\n",
    "j"
   ]
  },
  {
   "cell_type": "code",
   "execution_count": 429,
   "metadata": {},
   "outputs": [
    {
     "ename": "RuntimeError",
     "evalue": "result type Float can't be cast to the desired output type Long",
     "output_type": "error",
     "traceback": [
      "\u001b[0;31m---------------------------------------------------------------------------\u001b[0m",
      "\u001b[0;31mRuntimeError\u001b[0m                              Traceback (most recent call last)",
      "\u001b[1;32m/Users/heemin/Documents/DHLab/mv/project/code/frame2scound.ipynb 셀 30\u001b[0m in \u001b[0;36m<cell line: 1>\u001b[0;34m()\u001b[0m\n\u001b[0;32m----> <a href='vscode-notebook-cell:/Users/heemin/Documents/DHLab/mv/project/code/frame2scound.ipynb#Y152sZmlsZQ%3D%3D?line=0'>1</a>\u001b[0m j \u001b[39m+\u001b[39m\u001b[39m=\u001b[39m k\u001b[39m*\u001b[39m\u001b[39m0.0125\u001b[39m\n",
      "\u001b[0;31mRuntimeError\u001b[0m: result type Float can't be cast to the desired output type Long"
     ]
    }
   ],
   "source": [
    "j += k*0.0125"
   ]
  },
  {
   "cell_type": "code",
   "execution_count": 104,
   "metadata": {},
   "outputs": [],
   "source": [
    "label2 = pd.read_excel('/Users/heemin/Documents/DHLab/mv/project/ll.xlsx')"
   ]
  },
  {
   "cell_type": "code",
   "execution_count": 123,
   "metadata": {},
   "outputs": [
    {
     "name": "stdout",
     "output_type": "stream",
     "text": [
      "threshold:1\n",
      "Accuracy for Neutral data: 50.24%\n",
      "Accuracy for Emotion data: 76.91%\n",
      "Accuracy for Total data: 56.27%\n",
      "Accuracy by Neutral video: 56.12%\n",
      "Accuracy by Emotion video: 89.32%\n",
      "Accuracy by Total video: 70.25%\n",
      "\n",
      "threshold:2\n",
      "Accuracy for Neutral data: 55.23%\n",
      "Accuracy for Emotion data: 75.45%\n",
      "Accuracy for Total data: 59.80%\n",
      "Accuracy by Neutral video: 64.03%\n",
      "Accuracy by Emotion video: 85.44%\n",
      "Accuracy by Total video: 73.14%\n",
      "\n",
      "threshold:3\n",
      "Accuracy for Neutral data: 59.85%\n",
      "Accuracy for Emotion data: 72.55%\n",
      "Accuracy for Total data: 62.72%\n",
      "Accuracy by Neutral video: 66.91%\n",
      "Accuracy by Emotion video: 82.52%\n",
      "Accuracy by Total video: 73.55%\n",
      "\n",
      "threshold:4\n",
      "Accuracy for Neutral data: 64.37%\n",
      "Accuracy for Emotion data: 70.36%\n",
      "Accuracy for Total data: 65.72%\n",
      "Accuracy by Neutral video: 74.10%\n",
      "Accuracy by Emotion video: 80.58%\n",
      "Accuracy by Total video: 76.86%\n",
      "\n",
      "threshold:5\n",
      "Accuracy for Neutral data: 67.45%\n",
      "Accuracy for Emotion data: 67.64%\n",
      "Accuracy for Total data: 67.49%\n",
      "Accuracy by Neutral video: 77.70%\n",
      "Accuracy by Emotion video: 77.67%\n",
      "Accuracy by Total video: 77.69%\n",
      "\n"
     ]
    }
   ],
   "source": [
    "threshold = 0.5\n",
    "# p10_len = 5\n",
    "for n in range(1, 6):\n",
    "    n_total = 0\n",
    "    n_correct = 0 \n",
    "    e_total = 0\n",
    "    e_correct = 0\n",
    "    n_video_total = 0\n",
    "    n_video_correct = 0\n",
    "    e_video_total = 0\n",
    "    e_video_correct = 0\n",
    "    p10_len = n\n",
    "    for i in range(len(label2)):\n",
    "        file = label2['file'][i]\n",
    "        df = pd.read_csv('/Users/heemin/Documents/DHLab/mv/project/csv_crop/'+file+'.mp4.csv', index_col=0)\n",
    "        label = label2.loc[label2['file'] == file]['true'][i]\n",
    "\n",
    "        if label2['Neutral'][i] == 0:\n",
    "            l1 = df['total_count'].tolist()\n",
    "            l2 = df['emotion'].tolist()\n",
    "            df1 = pd.DataFrame([l1,l2]).T\n",
    "            a = list(range(l1[-1]+1))\n",
    "            index_df = pd.DataFrame(a)\n",
    "            df2 = pd.merge(index_df, df1, how=\"outer\")\n",
    "            df2 = df2.fillna('none')\n",
    "            l3 = []\n",
    "            split = 0\n",
    "            for i in range(len(df2)):\n",
    "                if i % 25 == 0 and i != 0 or i == len(df2): # 25 frame 마다 연산\n",
    "                    emolist = df2[1][split:i].to_list()\n",
    "                    emocount = Counter(emolist)\n",
    "                    top3 = emocount.most_common(n=3)\n",
    "\n",
    "                    if top3[0][0] == 'none':\n",
    "                        if len(top3) == 1:\n",
    "                            l3.append([i, 'Neutral'])\n",
    "                        elif top3[1][0] == 'Neutral':\n",
    "                            if len(top3) == 3:\n",
    "                                if top3[2][1] >= p10_len:\n",
    "                                    l3.append([i, top3[2][0]])\n",
    "                                else:\n",
    "                                    l3.append([i, top3[1][0]])\n",
    "                            else:\n",
    "                                l3.append([i, top3[1][0]])\n",
    "                    elif top3[0][0] == 'Neutral':\n",
    "                        if len(top3) == 1:\n",
    "                            l3.append([i, 'Neutral'])\n",
    "                        elif top3[1][0] == 'none':\n",
    "                            if len(top3) == 2: \n",
    "                                l3.append([i, 'Neutral'])\n",
    "                            else:\n",
    "                                if top3[2][1] >= p10_len:\n",
    "                                    l3.append([i, top3[2][0]])\n",
    "                                else:\n",
    "                                    l3.append([i, top3[0][0]])\n",
    "                        else:\n",
    "                            if top3[1][1] >= p10_len:\n",
    "                                l3.append([i, top3[1][0]])\n",
    "                            else:\n",
    "                                l3.append([i, top3[0][0]])\n",
    "                    else:\n",
    "                        l3.append([i, top3[0][0]])\n",
    "                    split+=25\n",
    "            # pd.DataFrame(l3, columns=[['count','emotion']]).to_csv('/Users/heemin/Documents/DHLab/mv/project/dir/emotion_top3/'+j[1])\n",
    "            video_second_total = 0\n",
    "            video_second_correct = 0\n",
    "            for scound, emotion in l3:\n",
    "                video_second_total += 1\n",
    "                e_total+=1\n",
    "                if emotion_dict[emotion] == label:\n",
    "                    e_correct += 1\n",
    "                    video_second_correct += 1\n",
    "                # print(file, emotion, label)\n",
    "\n",
    "            video_second_acc = video_second_correct / video_second_total\n",
    "            # print(video_second_acc)\n",
    "            e_video_total += 1\n",
    "            if video_second_acc >= threshold:\n",
    "                e_video_correct+=1\n",
    "            \n",
    "        else:\n",
    "            l1 = df['total_count'].tolist()\n",
    "            l2 = df['emotion'].tolist()\n",
    "            df1 = pd.DataFrame([l1,l2]).T\n",
    "            a = list(range(l1[-1]+1))\n",
    "            index_df = pd.DataFrame(a)\n",
    "            df2 = pd.merge(index_df, df1, how=\"outer\")\n",
    "            df2 = df2.fillna('none')\n",
    "            l3 = []\n",
    "            split = 0\n",
    "            for i in range(len(df2)):\n",
    "                if i % 25 == 0 and i != 0 or i == len(df2): # 25 frame 마다 연산\n",
    "                    emolist = df2[1][split:i].to_list()\n",
    "                    emocount = Counter(emolist)\n",
    "                    top3 = emocount.most_common(n=3)\n",
    "\n",
    "                    if top3[0][0] == 'none':\n",
    "                        if len(top3) == 1:\n",
    "                            l3.append([i, 'Neutral'])\n",
    "                        elif top3[1][0] == 'Neutral':\n",
    "                            if len(top3) == 3:\n",
    "                                if top3[2][1] >= p10_len:\n",
    "                                    l3.append([i, top3[2][0]])\n",
    "                                else:\n",
    "                                    l3.append([i, top3[1][0]])\n",
    "                            else:\n",
    "                                l3.append([i, top3[1][0]])\n",
    "                    elif top3[0][0] == 'Neutral':\n",
    "                        if len(top3) == 1:\n",
    "                            l3.append([i, 'Neutral'])\n",
    "                        elif top3[1][0] == 'none':\n",
    "                            if len(top3) == 2: \n",
    "                                l3.append([i, 'Neutral'])\n",
    "                            else:\n",
    "                                if top3[2][1] >= p10_len:\n",
    "                                    l3.append([i, top3[2][0]])\n",
    "                                else:\n",
    "                                    l3.append([i, top3[0][0]])\n",
    "                        else:\n",
    "                            if top3[1][1] >= p10_len:\n",
    "                                l3.append([i, top3[1][0]])\n",
    "                            else:\n",
    "                                l3.append([i, top3[0][0]])\n",
    "                    else:\n",
    "                        l3.append([i, top3[0][0]])\n",
    "                    split+=25\n",
    "            # pd.DataFrame(l3, columns=[['count','emotion']]).to_csv('/Users/heemin/Documents/DHLab/mv/project/dir/emotion_top3/'+j[1])\n",
    "            video_second_total = 0\n",
    "            video_second_correct = 0\n",
    "            for scound, emotion in l3:\n",
    "                video_second_total += 1\n",
    "                n_total+=1\n",
    "                if emotion_dict[emotion] == label:\n",
    "                    n_correct += 1\n",
    "                    video_second_correct += 1\n",
    "                # print(file, emotion, label)\n",
    "            \n",
    "            video_second_acc = video_second_correct / video_second_total\n",
    "            # print(video_second_acc)\n",
    "            n_video_total += 1\n",
    "            if video_second_acc >= threshold:\n",
    "                n_video_correct+=1\n",
    "    n_video_acc = n_video_correct / n_video_total\n",
    "    e_video_acc = e_video_correct / e_video_total\n",
    "    video_acc = (e_video_correct+n_video_correct) / (e_video_total+n_video_total)\n",
    "\n",
    "    n_acc = n_correct / n_total\n",
    "    e_acc = e_correct / e_total\n",
    "    acc = (n_correct+e_correct) / (n_total+e_total)\n",
    "    print(f'threshold:{n}\\nAccuracy for Neutral data: {n_acc*100:0.2f}%\\nAccuracy for Emotion data: {e_acc*100:0.2f}%\\nAccuracy for Total data: {acc*100:0.2f}%\\nAccuracy by Neutral video: {n_video_acc*100:0.2f}%\\nAccuracy by Emotion video: {e_video_acc*100:0.2f}%\\nAccuracy by Total video: {video_acc*100:0.2f}%\\n')"
   ]
  },
  {
   "cell_type": "code",
   "execution_count": 111,
   "metadata": {},
   "outputs": [
    {
     "data": {
      "text/plain": [
       "[('Happy', 13), ('Neutral', 11), ('none', 1)]"
      ]
     },
     "execution_count": 111,
     "metadata": {},
     "output_type": "execute_result"
    }
   ],
   "source": [
    "top3"
   ]
  },
  {
   "cell_type": "code",
   "execution_count": 108,
   "metadata": {},
   "outputs": [
    {
     "data": {
      "text/plain": [
       "[]"
      ]
     },
     "execution_count": 108,
     "metadata": {},
     "output_type": "execute_result"
    }
   ],
   "source": [
    "l3"
   ]
  },
  {
   "cell_type": "code",
   "execution_count": 19,
   "metadata": {},
   "outputs": [
    {
     "data": {
      "text/plain": [
       "[('none', 18), ('Neutral', 7)]"
      ]
     },
     "execution_count": 19,
     "metadata": {},
     "output_type": "execute_result"
    }
   ],
   "source": [
    "top3"
   ]
  },
  {
   "cell_type": "code",
   "execution_count": 11,
   "metadata": {},
   "outputs": [
    {
     "data": {
      "text/plain": [
       "[[25, 'Neutral'], 'Neutral', 'Neutral', [100, 'Sad'], [125, 'Sad']]"
      ]
     },
     "execution_count": 11,
     "metadata": {},
     "output_type": "execute_result"
    }
   ],
   "source": [
    "l3"
   ]
  },
  {
   "cell_type": "code",
   "execution_count": 392,
   "metadata": {},
   "outputs": [
    {
     "data": {
      "text/plain": [
       "0.6993865030674846"
      ]
     },
     "execution_count": 392,
     "metadata": {},
     "output_type": "execute_result"
    }
   ],
   "source": [
    "e_acc"
   ]
  },
  {
   "cell_type": "code",
   "execution_count": 393,
   "metadata": {},
   "outputs": [
    {
     "data": {
      "text/plain": [
       "652"
      ]
     },
     "execution_count": 393,
     "metadata": {},
     "output_type": "execute_result"
    }
   ],
   "source": [
    "e_total"
   ]
  },
  {
   "cell_type": "code",
   "execution_count": 394,
   "metadata": {},
   "outputs": [
    {
     "data": {
      "text/plain": [
       "456"
      ]
     },
     "execution_count": 394,
     "metadata": {},
     "output_type": "execute_result"
    }
   ],
   "source": [
    "e_correct"
   ]
  },
  {
   "cell_type": "code",
   "execution_count": 395,
   "metadata": {},
   "outputs": [
    {
     "data": {
      "text/plain": [
       "0.359436045524036"
      ]
     },
     "execution_count": 395,
     "metadata": {},
     "output_type": "execute_result"
    }
   ],
   "source": [
    "acc"
   ]
  },
  {
   "cell_type": "code",
   "execution_count": 396,
   "metadata": {},
   "outputs": [
    {
     "data": {
      "text/plain": [
       "2116"
      ]
     },
     "execution_count": 396,
     "metadata": {},
     "output_type": "execute_result"
    }
   ],
   "source": [
    "correct"
   ]
  },
  {
   "cell_type": "code",
   "execution_count": 397,
   "metadata": {},
   "outputs": [
    {
     "data": {
      "text/plain": [
       "5887"
      ]
     },
     "execution_count": 397,
     "metadata": {},
     "output_type": "execute_result"
    }
   ],
   "source": [
    "total"
   ]
  },
  {
   "cell_type": "code",
   "execution_count": 398,
   "metadata": {},
   "outputs": [
    {
     "data": {
      "text/plain": [
       "0.359436045524036"
      ]
     },
     "execution_count": 398,
     "metadata": {},
     "output_type": "execute_result"
    }
   ],
   "source": [
    "acc"
   ]
  },
  {
   "cell_type": "code",
   "execution_count": 399,
   "metadata": {},
   "outputs": [
    {
     "data": {
      "text/plain": [
       "2116"
      ]
     },
     "execution_count": 399,
     "metadata": {},
     "output_type": "execute_result"
    }
   ],
   "source": [
    "correct"
   ]
  },
  {
   "cell_type": "code",
   "execution_count": 400,
   "metadata": {},
   "outputs": [
    {
     "data": {
      "text/plain": [
       "5887"
      ]
     },
     "execution_count": 400,
     "metadata": {},
     "output_type": "execute_result"
    }
   ],
   "source": [
    "total"
   ]
  },
  {
   "cell_type": "code",
   "execution_count": 403,
   "metadata": {},
   "outputs": [
    {
     "name": "stdout",
     "output_type": "stream",
     "text": [
      "2572\n",
      "6539\n"
     ]
    },
    {
     "data": {
      "text/plain": [
       "0.393332313809451"
      ]
     },
     "execution_count": 403,
     "metadata": {},
     "output_type": "execute_result"
    }
   ],
   "source": [
    "print(correct+e_correct)\n",
    "print(total + e_total)\n",
    "(correct+e_correct) /( total + e_total)"
   ]
  },
  {
   "cell_type": "code",
   "execution_count": null,
   "metadata": {},
   "outputs": [],
   "source": []
  }
 ],
 "metadata": {
  "kernelspec": {
   "display_name": "meta",
   "language": "python",
   "name": "python3"
  },
  "language_info": {
   "codemirror_mode": {
    "name": "ipython",
    "version": 3
   },
   "file_extension": ".py",
   "mimetype": "text/x-python",
   "name": "python",
   "nbconvert_exporter": "python",
   "pygments_lexer": "ipython3",
   "version": "3.6.8 (default, Dec 22 2022, 10:49:09) \n[GCC 7.3.0]"
  },
  "orig_nbformat": 4,
  "vscode": {
   "interpreter": {
    "hash": "2665f8df3275283c8048d37fe506da9daedd0dda9bb5561c406cc2a8de356373"
   }
  }
 },
 "nbformat": 4,
 "nbformat_minor": 2
}
