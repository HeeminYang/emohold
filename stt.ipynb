{
 "cells": [
  {
   "cell_type": "code",
   "execution_count": 1,
   "metadata": {},
   "outputs": [],
   "source": [
    "from pydub import AudioSegment\n",
    "import requests"
   ]
  },
  {
   "cell_type": "code",
   "execution_count": 8,
   "metadata": {},
   "outputs": [
    {
     "ename": "Exception",
     "evalue": "Failed to convert audio to text: {\"errorMessage\":\"Exceed Sound Data length\",\"errorCode\":\"STT001\"}",
     "output_type": "error",
     "traceback": [
      "\u001b[0;31m---------------------------------------------------------------------------\u001b[0m",
      "\u001b[0;31mException\u001b[0m                                 Traceback (most recent call last)",
      "\u001b[0;32m<ipython-input-8-9c714790112a>\u001b[0m in \u001b[0;36m<module>\u001b[0;34m\u001b[0m\n\u001b[1;32m     47\u001b[0m \u001b[0;31m# Convert the audio file to text\u001b[0m\u001b[0;34m\u001b[0m\u001b[0;34m\u001b[0m\u001b[0;34m\u001b[0m\u001b[0m\n\u001b[1;32m     48\u001b[0m \u001b[0mmp4_to_mp3\u001b[0m\u001b[0;34m(\u001b[0m\u001b[0;34m'/home/heemin/mv/test/data/1m_sample.mp4'\u001b[0m\u001b[0;34m)\u001b[0m\u001b[0;34m\u001b[0m\u001b[0;34m\u001b[0m\u001b[0m\n\u001b[0;32m---> 49\u001b[0;31m \u001b[0mspeech_to_text\u001b[0m\u001b[0;34m(\u001b[0m\u001b[0;34m'/home/heemin/mv/test/data/output.mp3'\u001b[0m\u001b[0;34m)\u001b[0m\u001b[0;34m\u001b[0m\u001b[0;34m\u001b[0m\u001b[0m\n\u001b[0m\u001b[1;32m     50\u001b[0m \u001b[0;34m\u001b[0m\u001b[0m\n\u001b[1;32m     51\u001b[0m \u001b[0;31m# The speech-to-text result will be saved to the file 'speech_to_text_result.txt'\u001b[0m\u001b[0;34m\u001b[0m\u001b[0;34m\u001b[0m\u001b[0;34m\u001b[0m\u001b[0m\n",
      "\u001b[0;32m<ipython-input-8-9c714790112a>\u001b[0m in \u001b[0;36mspeech_to_text\u001b[0;34m(file_path)\u001b[0m\n\u001b[1;32m     28\u001b[0m   \u001b[0;31m# Check the response status\u001b[0m\u001b[0;34m\u001b[0m\u001b[0;34m\u001b[0m\u001b[0;34m\u001b[0m\u001b[0m\n\u001b[1;32m     29\u001b[0m   \u001b[0;32mif\u001b[0m \u001b[0mresponse\u001b[0m\u001b[0;34m.\u001b[0m\u001b[0mstatus_code\u001b[0m \u001b[0;34m!=\u001b[0m \u001b[0;36m200\u001b[0m\u001b[0;34m:\u001b[0m\u001b[0;34m\u001b[0m\u001b[0;34m\u001b[0m\u001b[0m\n\u001b[0;32m---> 30\u001b[0;31m     \u001b[0;32mraise\u001b[0m \u001b[0mException\u001b[0m\u001b[0;34m(\u001b[0m\u001b[0;34m'Failed to convert audio to text: {}'\u001b[0m\u001b[0;34m.\u001b[0m\u001b[0mformat\u001b[0m\u001b[0;34m(\u001b[0m\u001b[0mresponse\u001b[0m\u001b[0;34m.\u001b[0m\u001b[0mtext\u001b[0m\u001b[0;34m)\u001b[0m\u001b[0;34m)\u001b[0m\u001b[0;34m\u001b[0m\u001b[0;34m\u001b[0m\u001b[0m\n\u001b[0m\u001b[1;32m     31\u001b[0m \u001b[0;34m\u001b[0m\u001b[0m\n\u001b[1;32m     32\u001b[0m   \u001b[0;31m# Parse the response\u001b[0m\u001b[0;34m\u001b[0m\u001b[0;34m\u001b[0m\u001b[0;34m\u001b[0m\u001b[0m\n",
      "\u001b[0;31mException\u001b[0m: Failed to convert audio to text: {\"errorMessage\":\"Exceed Sound Data length\",\"errorCode\":\"STT001\"}"
     ]
    }
   ],
   "source": [
    "CLOVA_API_URL = 'https://naveropenapi.apigw.ntruss.com/recog/v1/stt?lang=Kor'\n",
    "CLOVA_API_KEY = 'rfq2bm99g4'\n",
    "CLOVA_API_SECRET = '4cBExZ1knbSdHfqs6kJPQZSBIZ0Ij0O64EP5YsBO'\n",
    "\n",
    "\n",
    "def mp4_to_mp3(file_path):\n",
    "  # Load the audio data from the mp4 file\n",
    "  audio = AudioSegment.from_file(file_path, format='mp4')\n",
    "\n",
    "  # Save the audio data as an mp3 file\n",
    "  audio.export('/home/heemin/mv/test/data/output.mp3', format='mp3')\n",
    "\n",
    "def speech_to_text(file_path):\n",
    "  # Load the audio data\n",
    "  with open(file_path, 'rb') as f:\n",
    "    audio_data = f.read()\n",
    "\n",
    "  # Set the request headers\n",
    "  headers = {\n",
    "    'Content-Type': 'application/octet-stream',\n",
    "    'X-NCP-APIGW-API-KEY-ID': CLOVA_API_KEY,\n",
    "    'X-NCP-APIGW-API-KEY': CLOVA_API_SECRET,\n",
    "  }\n",
    "\n",
    "  # Send the request\n",
    "  response = requests.post(CLOVA_API_URL, headers=headers, data=audio_data)\n",
    "\n",
    "  # Check the response status\n",
    "  if response.status_code != 200:\n",
    "    raise Exception('Failed to convert audio to text: {}'.format(response.text))\n",
    "\n",
    "  # Parse the response\n",
    "  response_text = response.json()\n",
    "\n",
    "  # Create a dictionary to store the result\n",
    "  result = {}\n",
    "\n",
    "  # Iterate over the list of segments\n",
    "  for segment in response_text['results']:\n",
    "    # Get the start time and text of the segment\n",
    "    start_time = segment['start_time']\n",
    "    text = segment['alternatives'][0]['content']\n",
    "\n",
    "    # Add the segment to the result dictionary\n",
    "    result[start_time] = text\n",
    "\n",
    "# Convert the audio file to text\n",
    "mp4_to_mp3('/home/heemin/mv/test/data/1m_sample.mp4')\n",
    "speech_to_text('/home/heemin/mv/test/data/output.mp3')\n",
    "\n",
    "# The speech-to-text result will be saved to the file 'speech_to_text_result.txt'\n"
   ]
  }
 ],
 "metadata": {
  "kernelspec": {
   "display_name": "Python 3.6.8 64-bit ('meta')",
   "language": "python",
   "name": "python3"
  },
  "language_info": {
   "codemirror_mode": {
    "name": "ipython",
    "version": 3
   },
   "file_extension": ".py",
   "mimetype": "text/x-python",
   "name": "python",
   "nbconvert_exporter": "python",
   "pygments_lexer": "ipython3",
   "version": "3.6.8 (default, Nov 16 2020, 16:55:22) \n[GCC 4.8.5 20150623 (Red Hat 4.8.5-44)]"
  },
  "orig_nbformat": 4,
  "vscode": {
   "interpreter": {
    "hash": "0afe7861824fdac5f2b42c06a28eb232253a613ff81cc3b66a47b1dca7b64b50"
   }
  }
 },
 "nbformat": 4,
 "nbformat_minor": 2
}
